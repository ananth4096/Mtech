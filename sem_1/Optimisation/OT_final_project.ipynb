{
 "cells": [
  {
   "cell_type": "code",
   "execution_count": 2,
   "id": "66367c45",
   "metadata": {},
   "outputs": [
    {
     "name": "stdout",
     "output_type": "stream",
     "text": [
      "Enter the nonlinear function in terms of x:  x**2 - 2*x + 1\n"
     ]
    }
   ],
   "source": [
    "import numpy as np\n",
    "from scipy.optimize import minimize\n",
    "import matplotlib.pyplot as plt\n",
    "\n",
    "# Define a function to take user input for the nonlinear function\n",
    "def get_user_function():\n",
    "    user_function = input(\"Enter the nonlinear function in terms of x: \")\n",
    "    def function_wrapper(x):\n",
    "        return eval(user_function)\n",
    "    return function_wrapper\n",
    "\n",
    "# Function to numerically compute gradient\n",
    "def numerical_gradient(func, x, epsilon=1e-6):\n",
    "    grad = np.zeros_like(x)\n",
    "    for i in range(len(x)):\n",
    "        x_i = x.copy()\n",
    "        x_i[i] += epsilon\n",
    "        grad[i] = (func(x_i) - func(x)) / epsilon\n",
    "    return grad\n",
    "\n",
    "# Ask user for the nonlinear function\n",
    "user_func = get_user_function()\n",
    "\n",
    "# Define the function and its gradient for BFGS optimization\n",
    "def func_to_optimize(x):\n",
    "    return user_func(x)[0], numerical_gradient(lambda x: user_func(x)[0], x)\n",
    "\n",
    "# BFGS optimization\n",
    "result = minimize(func_to_optimize, x0=np.zeros(1), method='BFGS', jac=True, options={'disp': False})\n",
    "\n",
    "# Extract optimized solution\n",
    "optimized_solution = result.x[0]\n",
    "print(\"Optimized Solution:\", optimized_solution)\n",
    "\n",
    "# Plotting the function and its gradient\n",
    "x_vals = np.linspace(-5, 5, 100)\n",
    "y_vals = user_func(x_vals)\n",
    "\n",
    "plt.figure(figsize=(10, 6))\n",
    "\n",
    "# Plot the function\n",
    "plt.subplot(211)\n",
    "plt.plot(x_vals, y_vals, label='Function')\n",
    "plt.title('Nonlinear Function')\n",
    "plt.xlabel('x')\n",
    "plt.ylabel('f(x)')\n",
    "plt.axvline(x=optimized_solution, color='r', linestyle='--', label='Optimized Solution')\n",
    "plt.legend()\n",
    "\n",
    "# Plot the gradient\n",
    "gradient_vals = numerical_gradient(lambda x: user_func(x)[0], x_vals)\n",
    "plt.subplot(212)\n",
    "plt.plot(x_vals, gradient_vals, label='Gradient')\n",
    "plt.title('Gradient of the Function')\n",
    "plt.xlabel('x')\n",
    "plt.ylabel(\"f'(x)\")\n",
    "plt.axvline(x=optimized_solution, color='r', linestyle='--', label='Optimized Solution')\n",
    "plt.legend()\n",
    "\n",
    "plt.tight_layout()\n",
    "plt.show()\n"
   ]
  },
  {
   "cell_type": "code",
   "execution_count": null,
   "id": "5af09cc1",
   "metadata": {},
   "outputs": [],
   "source": []
  }
 ],
 "metadata": {
  "kernelspec": {
   "display_name": "Python 3 (ipykernel)",
   "language": "python",
   "name": "python3"
  },
  "language_info": {
   "codemirror_mode": {
    "name": "ipython",
    "version": 3
   },
   "file_extension": ".py",
   "mimetype": "text/x-python",
   "name": "python",
   "nbconvert_exporter": "python",
   "pygments_lexer": "ipython3",
   "version": "3.11.3"
  }
 },
 "nbformat": 4,
 "nbformat_minor": 5
}
