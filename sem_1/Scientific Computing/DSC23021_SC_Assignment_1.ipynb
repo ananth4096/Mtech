{
 "cells": [
  {
   "cell_type": "markdown",
   "id": "0a7699c3",
   "metadata": {},
   "source": [
    "## S. Ananth Patnaik\n",
    "## CB.SC.P2DSC23021\n",
    "## Scientific Computing Assignment 1"
   ]
  },
  {
   "cell_type": "markdown",
   "id": "cdb035f4",
   "metadata": {},
   "source": [
    "# Gaussian Elimination"
   ]
  },
  {
   "cell_type": "code",
   "execution_count": 1,
   "id": "b6b27223",
   "metadata": {},
   "outputs": [
    {
     "name": "stdout",
     "output_type": "stream",
     "text": [
      "Enter the number of variables: 3\n",
      "Enter the coefficient matrix (each row separated by spaces):\n",
      "2 3 4\n",
      "2 3 5\n",
      "3 5 7\n",
      "Enter the constants vector (space-separated values):\n",
      "7 8 9\n",
      "Solution: [ 9. -5.  1.]\n"
     ]
    }
   ],
   "source": [
    "import numpy as np\n",
    "\n",
    "def gaussian_elimination(coeff_matrix, constants):\n",
    "    num_vars = len(constants)\n",
    "    \n",
    "    # Augment the coefficient matrix coeff_matrix with the constants vector\n",
    "    augmented_matrix = np.hstack((coeff_matrix, constants.reshape(-1, 1)))\n",
    "\n",
    "    # Forward elimination\n",
    "    for i in range(num_vars):\n",
    "        # Find the pivot row and swap\n",
    "        max_row = i\n",
    "        for k in range(i+1, num_vars):\n",
    "            if abs(augmented_matrix[k, i]) > abs(augmented_matrix[max_row, i]):\n",
    "                max_row = k\n",
    "        augmented_matrix[[i, max_row]] = augmented_matrix[[max_row, i]]\n",
    "\n",
    "        # Make the diagonal elements 1\n",
    "        augmented_matrix[i] = augmented_matrix[i] / augmented_matrix[i, i]\n",
    "\n",
    "        # Eliminate nonzero entries below the current row\n",
    "        for k in range(i+1, num_vars):\n",
    "            factor = augmented_matrix[k, i]\n",
    "            augmented_matrix[k] -= factor * augmented_matrix[i]\n",
    "\n",
    "    # Back substitution\n",
    "    solution = np.zeros(num_vars)\n",
    "    for i in range(num_vars-1, -1, -1):\n",
    "        solution[i] = augmented_matrix[i, -1]\n",
    "        for j in range(i+1, num_vars):\n",
    "            solution[i] -= augmented_matrix[i, j] * solution[j]\n",
    "\n",
    "    return solution\n",
    "\n",
    "# Get input for coefficient matrix coeff_matrix\n",
    "num_vars = int(input(\"Enter the number of variables: \"))\n",
    "print(\"Enter the coefficient matrix (each row separated by spaces):\")\n",
    "coeff_matrix = np.zeros((num_vars, num_vars))\n",
    "for i in range(num_vars):\n",
    "    coeff_matrix[i] = list(map(float, input().split()))\n",
    "\n",
    "# Get input for constants vector constants\n",
    "print(\"Enter the constants vector (space-separated values):\")\n",
    "constants = np.array(list(map(float, input().split())))\n",
    "\n",
    "# Perform Gaussian elimination and display the solution\n",
    "solution = gaussian_elimination(coeff_matrix, constants)\n",
    "print(\"Solution:\", solution)\n"
   ]
  },
  {
   "cell_type": "markdown",
   "id": "a318ca44",
   "metadata": {},
   "source": [
    "# LU Decomposition"
   ]
  },
  {
   "cell_type": "code",
   "execution_count": 2,
   "id": "5358083b",
   "metadata": {},
   "outputs": [
    {
     "name": "stdout",
     "output_type": "stream",
     "text": [
      "Enter the size of the square matrix: 3\n",
      "Enter the elements of the matrix row by row:\n",
      "3 2 5 \n",
      "5 8 3\n",
      "4 2 3\n",
      "\n",
      "Matrix A:\n",
      "3.0 2.0 5.0\n",
      "5.0 8.0 3.0\n",
      "4.0 2.0 3.0\n",
      "\n",
      "Lower triangular matrix L:\n",
      "1.0 0.0 0.0\n",
      "1.6666666666666667 1.0 0.0\n",
      "1.3333333333333333 -0.14285714285714285 1.0\n",
      "\n",
      "Upper triangular matrix U:\n",
      "3.0 2.0 5.0\n",
      "0.0 4.666666666666666 -5.333333333333334\n",
      "0.0 0.0 -4.428571428571428\n"
     ]
    }
   ],
   "source": [
    "import numpy as np\n",
    "\n",
    "def lu_decomposition(input_matrix):\n",
    "    n = len(input_matrix)\n",
    "    lower_triangular = np.zeros((n, n))\n",
    "    upper_triangular = np.zeros((n, n))\n",
    "\n",
    "    for i in range(n):\n",
    "        lower_triangular[i][i] = 1\n",
    "\n",
    "        for j in range(i, n):\n",
    "            upper_triangular[i][j] = input_matrix[i][j]\n",
    "            for k in range(i):\n",
    "                upper_triangular[i][j] -= lower_triangular[i][k] * upper_triangular[k][j]\n",
    "\n",
    "        for j in range(i + 1, n):\n",
    "            lower_triangular[j][i] = input_matrix[j][i]\n",
    "            for k in range(i):\n",
    "                lower_triangular[j][i] -= lower_triangular[j][k] * upper_triangular[k][i]\n",
    "            lower_triangular[j][i] /= upper_triangular[i][i]\n",
    "\n",
    "    return lower_triangular, upper_triangular\n",
    "\n",
    "# Input\n",
    "matrix_size = int(input(\"Enter the size of the square matrix: \"))\n",
    "print(\"Enter the elements of the matrix row by row:\")\n",
    "input_matrix = []\n",
    "for i in range(matrix_size):\n",
    "    row = list(map(float, input().split()))\n",
    "    if len(row) != matrix_size:\n",
    "        print(\"Error: Please enter a square matrix.\")\n",
    "        exit()\n",
    "    input_matrix.append(row)\n",
    "\n",
    "# Perform LU decomposition\n",
    "lower_matrix, upper_matrix = lu_decomposition(input_matrix)\n",
    "\n",
    "# Display results\n",
    "print(\"\\nMatrix A:\")\n",
    "for row in input_matrix:\n",
    "    print(\" \".join(map(str, row)))\n",
    "\n",
    "print(\"\\nLower triangular matrix L:\")\n",
    "for row in lower_matrix:\n",
    "    print(\" \".join(map(str, row)))\n",
    "\n",
    "print(\"\\nUpper triangular matrix U:\")\n",
    "for row in upper_matrix:\n",
    "    print(\" \".join(map(str, row)))\n"
   ]
  }
 ],
 "metadata": {
  "kernelspec": {
   "display_name": "Python 3 (ipykernel)",
   "language": "python",
   "name": "python3"
  },
  "language_info": {
   "codemirror_mode": {
    "name": "ipython",
    "version": 3
   },
   "file_extension": ".py",
   "mimetype": "text/x-python",
   "name": "python",
   "nbconvert_exporter": "python",
   "pygments_lexer": "ipython3",
   "version": "3.11.3"
  }
 },
 "nbformat": 4,
 "nbformat_minor": 5
}
