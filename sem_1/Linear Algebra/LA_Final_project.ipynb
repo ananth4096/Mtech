{
 "cells": [
  {
   "cell_type": "code",
   "execution_count": 1,
   "id": "16be6404",
   "metadata": {},
   "outputs": [],
   "source": [
    "import pandas as pd\n",
    "import numpy as np\n",
    "import matplotlib.pyplot as plt\n",
    "import seaborn as sns"
   ]
  },
  {
   "cell_type": "code",
   "execution_count": 2,
   "id": "da5f29d1",
   "metadata": {},
   "outputs": [],
   "source": [
    "data=pd.read_csv(r\"C:\\Users\\anant\\Desktop\\reviews.csv\")"
   ]
  },
  {
   "cell_type": "code",
   "execution_count": 3,
   "id": "80b6937f",
   "metadata": {},
   "outputs": [
    {
     "data": {
      "text/html": [
       "<div>\n",
       "<style scoped>\n",
       "    .dataframe tbody tr th:only-of-type {\n",
       "        vertical-align: middle;\n",
       "    }\n",
       "\n",
       "    .dataframe tbody tr th {\n",
       "        vertical-align: top;\n",
       "    }\n",
       "\n",
       "    .dataframe thead th {\n",
       "        text-align: right;\n",
       "    }\n",
       "</style>\n",
       "<table border=\"1\" class=\"dataframe\">\n",
       "  <thead>\n",
       "    <tr style=\"text-align: right;\">\n",
       "      <th></th>\n",
       "      <th>ratings</th>\n",
       "      <th>title</th>\n",
       "      <th>text</th>\n",
       "      <th>author</th>\n",
       "      <th>date_stayed</th>\n",
       "      <th>offering_id</th>\n",
       "      <th>num_helpful_votes</th>\n",
       "      <th>date</th>\n",
       "      <th>id</th>\n",
       "      <th>via_mobile</th>\n",
       "    </tr>\n",
       "  </thead>\n",
       "  <tbody>\n",
       "    <tr>\n",
       "      <th>0</th>\n",
       "      <td>{'service': 5.0, 'cleanliness': 5.0, 'overall'...</td>\n",
       "      <td>“Truly is \"Jewel of the Upper Wets Side\"”</td>\n",
       "      <td>Stayed in a king suite for 11 nights and yes i...</td>\n",
       "      <td>{'username': 'Papa_Panda', 'num_cities': 22, '...</td>\n",
       "      <td>December 2012</td>\n",
       "      <td>93338</td>\n",
       "      <td>0</td>\n",
       "      <td>December 17, 2012</td>\n",
       "      <td>147643103</td>\n",
       "      <td>False</td>\n",
       "    </tr>\n",
       "    <tr>\n",
       "      <th>1</th>\n",
       "      <td>{'service': 5.0, 'cleanliness': 5.0, 'overall'...</td>\n",
       "      <td>“My home away from home!”</td>\n",
       "      <td>On every visit to NYC, the Hotel Beacon is the...</td>\n",
       "      <td>{'username': 'Maureen V', 'num_reviews': 2, 'n...</td>\n",
       "      <td>December 2012</td>\n",
       "      <td>93338</td>\n",
       "      <td>0</td>\n",
       "      <td>December 17, 2012</td>\n",
       "      <td>147639004</td>\n",
       "      <td>False</td>\n",
       "    </tr>\n",
       "    <tr>\n",
       "      <th>2</th>\n",
       "      <td>{'service': 4.0, 'cleanliness': 5.0, 'overall'...</td>\n",
       "      <td>“Great Stay”</td>\n",
       "      <td>This is a great property in Midtown. We two di...</td>\n",
       "      <td>{'username': 'vuguru', 'num_cities': 12, 'num_...</td>\n",
       "      <td>December 2012</td>\n",
       "      <td>1762573</td>\n",
       "      <td>0</td>\n",
       "      <td>December 18, 2012</td>\n",
       "      <td>147697954</td>\n",
       "      <td>False</td>\n",
       "    </tr>\n",
       "    <tr>\n",
       "      <th>3</th>\n",
       "      <td>{'service': 5.0, 'cleanliness': 5.0, 'overall'...</td>\n",
       "      <td>“Modern Convenience”</td>\n",
       "      <td>The Andaz is a nice hotel in a central locatio...</td>\n",
       "      <td>{'username': 'Hotel-Designer', 'num_cities': 5...</td>\n",
       "      <td>August 2012</td>\n",
       "      <td>1762573</td>\n",
       "      <td>0</td>\n",
       "      <td>December 17, 2012</td>\n",
       "      <td>147625723</td>\n",
       "      <td>False</td>\n",
       "    </tr>\n",
       "    <tr>\n",
       "      <th>4</th>\n",
       "      <td>{'service': 4.0, 'cleanliness': 5.0, 'overall'...</td>\n",
       "      <td>“Its the best of the Andaz Brand in the US....”</td>\n",
       "      <td>I have stayed at each of the US Andaz properti...</td>\n",
       "      <td>{'username': 'JamesE339', 'num_cities': 34, 'n...</td>\n",
       "      <td>December 2012</td>\n",
       "      <td>1762573</td>\n",
       "      <td>0</td>\n",
       "      <td>December 17, 2012</td>\n",
       "      <td>147612823</td>\n",
       "      <td>False</td>\n",
       "    </tr>\n",
       "  </tbody>\n",
       "</table>\n",
       "</div>"
      ],
      "text/plain": [
       "                                             ratings  \\\n",
       "0  {'service': 5.0, 'cleanliness': 5.0, 'overall'...   \n",
       "1  {'service': 5.0, 'cleanliness': 5.0, 'overall'...   \n",
       "2  {'service': 4.0, 'cleanliness': 5.0, 'overall'...   \n",
       "3  {'service': 5.0, 'cleanliness': 5.0, 'overall'...   \n",
       "4  {'service': 4.0, 'cleanliness': 5.0, 'overall'...   \n",
       "\n",
       "                                             title  \\\n",
       "0        “Truly is \"Jewel of the Upper Wets Side\"”   \n",
       "1                        “My home away from home!”   \n",
       "2                                     “Great Stay”   \n",
       "3                             “Modern Convenience”   \n",
       "4  “Its the best of the Andaz Brand in the US....”   \n",
       "\n",
       "                                                text  \\\n",
       "0  Stayed in a king suite for 11 nights and yes i...   \n",
       "1  On every visit to NYC, the Hotel Beacon is the...   \n",
       "2  This is a great property in Midtown. We two di...   \n",
       "3  The Andaz is a nice hotel in a central locatio...   \n",
       "4  I have stayed at each of the US Andaz properti...   \n",
       "\n",
       "                                              author    date_stayed  \\\n",
       "0  {'username': 'Papa_Panda', 'num_cities': 22, '...  December 2012   \n",
       "1  {'username': 'Maureen V', 'num_reviews': 2, 'n...  December 2012   \n",
       "2  {'username': 'vuguru', 'num_cities': 12, 'num_...  December 2012   \n",
       "3  {'username': 'Hotel-Designer', 'num_cities': 5...    August 2012   \n",
       "4  {'username': 'JamesE339', 'num_cities': 34, 'n...  December 2012   \n",
       "\n",
       "   offering_id  num_helpful_votes               date         id  via_mobile  \n",
       "0        93338                  0  December 17, 2012  147643103       False  \n",
       "1        93338                  0  December 17, 2012  147639004       False  \n",
       "2      1762573                  0  December 18, 2012  147697954       False  \n",
       "3      1762573                  0  December 17, 2012  147625723       False  \n",
       "4      1762573                  0  December 17, 2012  147612823       False  "
      ]
     },
     "execution_count": 3,
     "metadata": {},
     "output_type": "execute_result"
    }
   ],
   "source": [
    "data.head()"
   ]
  },
  {
   "cell_type": "code",
   "execution_count": 4,
   "id": "44900440",
   "metadata": {},
   "outputs": [
    {
     "name": "stdout",
     "output_type": "stream",
     "text": [
      "<class 'pandas.core.frame.DataFrame'>\n",
      "RangeIndex: 10000 entries, 0 to 9999\n",
      "Data columns (total 10 columns):\n",
      " #   Column             Non-Null Count  Dtype \n",
      "---  ------             --------------  ----- \n",
      " 0   ratings            10000 non-null  object\n",
      " 1   title              10000 non-null  object\n",
      " 2   text               10000 non-null  object\n",
      " 3   author             10000 non-null  object\n",
      " 4   date_stayed        9757 non-null   object\n",
      " 5   offering_id        10000 non-null  int64 \n",
      " 6   num_helpful_votes  10000 non-null  int64 \n",
      " 7   date               10000 non-null  object\n",
      " 8   id                 10000 non-null  int64 \n",
      " 9   via_mobile         10000 non-null  bool  \n",
      "dtypes: bool(1), int64(3), object(6)\n",
      "memory usage: 713.0+ KB\n"
     ]
    }
   ],
   "source": [
    "data.info()"
   ]
  },
  {
   "cell_type": "code",
   "execution_count": 5,
   "id": "f5f45eba",
   "metadata": {},
   "outputs": [],
   "source": [
    "df=data[[\"id\",\"ratings\"]]"
   ]
  },
  {
   "cell_type": "code",
   "execution_count": 6,
   "id": "82414c3e",
   "metadata": {},
   "outputs": [
    {
     "data": {
      "text/html": [
       "<div>\n",
       "<style scoped>\n",
       "    .dataframe tbody tr th:only-of-type {\n",
       "        vertical-align: middle;\n",
       "    }\n",
       "\n",
       "    .dataframe tbody tr th {\n",
       "        vertical-align: top;\n",
       "    }\n",
       "\n",
       "    .dataframe thead th {\n",
       "        text-align: right;\n",
       "    }\n",
       "</style>\n",
       "<table border=\"1\" class=\"dataframe\">\n",
       "  <thead>\n",
       "    <tr style=\"text-align: right;\">\n",
       "      <th></th>\n",
       "      <th>id</th>\n",
       "      <th>ratings</th>\n",
       "    </tr>\n",
       "  </thead>\n",
       "  <tbody>\n",
       "    <tr>\n",
       "      <th>0</th>\n",
       "      <td>147643103</td>\n",
       "      <td>{'service': 5.0, 'cleanliness': 5.0, 'overall'...</td>\n",
       "    </tr>\n",
       "    <tr>\n",
       "      <th>1</th>\n",
       "      <td>147639004</td>\n",
       "      <td>{'service': 5.0, 'cleanliness': 5.0, 'overall'...</td>\n",
       "    </tr>\n",
       "    <tr>\n",
       "      <th>2</th>\n",
       "      <td>147697954</td>\n",
       "      <td>{'service': 4.0, 'cleanliness': 5.0, 'overall'...</td>\n",
       "    </tr>\n",
       "    <tr>\n",
       "      <th>3</th>\n",
       "      <td>147625723</td>\n",
       "      <td>{'service': 5.0, 'cleanliness': 5.0, 'overall'...</td>\n",
       "    </tr>\n",
       "    <tr>\n",
       "      <th>4</th>\n",
       "      <td>147612823</td>\n",
       "      <td>{'service': 4.0, 'cleanliness': 5.0, 'overall'...</td>\n",
       "    </tr>\n",
       "  </tbody>\n",
       "</table>\n",
       "</div>"
      ],
      "text/plain": [
       "          id                                            ratings\n",
       "0  147643103  {'service': 5.0, 'cleanliness': 5.0, 'overall'...\n",
       "1  147639004  {'service': 5.0, 'cleanliness': 5.0, 'overall'...\n",
       "2  147697954  {'service': 4.0, 'cleanliness': 5.0, 'overall'...\n",
       "3  147625723  {'service': 5.0, 'cleanliness': 5.0, 'overall'...\n",
       "4  147612823  {'service': 4.0, 'cleanliness': 5.0, 'overall'..."
      ]
     },
     "execution_count": 6,
     "metadata": {},
     "output_type": "execute_result"
    }
   ],
   "source": [
    "df.head()"
   ]
  },
  {
   "cell_type": "code",
   "execution_count": 7,
   "id": "9fcb6760",
   "metadata": {},
   "outputs": [
    {
     "name": "stderr",
     "output_type": "stream",
     "text": [
      "C:\\Users\\anant\\AppData\\Local\\Temp\\ipykernel_25680\\2506144524.py:3: SettingWithCopyWarning: \n",
      "A value is trying to be set on a copy of a slice from a DataFrame.\n",
      "Try using .loc[row_indexer,col_indexer] = value instead\n",
      "\n",
      "See the caveats in the documentation: https://pandas.pydata.org/pandas-docs/stable/user_guide/indexing.html#returning-a-view-versus-a-copy\n",
      "  df['ratings'] = df['ratings'].apply(ast.literal_eval)\n"
     ]
    }
   ],
   "source": [
    "#Abstract Syntax Trees\n",
    "import ast\n",
    "df['ratings'] = df['ratings'].apply(ast.literal_eval)\n",
    "df = pd.concat([df.drop(['ratings'], axis=1), pd.json_normalize(df['ratings'])], axis=1)"
   ]
  },
  {
   "cell_type": "code",
   "execution_count": 8,
   "id": "de7be4c3",
   "metadata": {},
   "outputs": [
    {
     "data": {
      "text/html": [
       "<div>\n",
       "<style scoped>\n",
       "    .dataframe tbody tr th:only-of-type {\n",
       "        vertical-align: middle;\n",
       "    }\n",
       "\n",
       "    .dataframe tbody tr th {\n",
       "        vertical-align: top;\n",
       "    }\n",
       "\n",
       "    .dataframe thead th {\n",
       "        text-align: right;\n",
       "    }\n",
       "</style>\n",
       "<table border=\"1\" class=\"dataframe\">\n",
       "  <thead>\n",
       "    <tr style=\"text-align: right;\">\n",
       "      <th></th>\n",
       "      <th>id</th>\n",
       "      <th>service</th>\n",
       "      <th>cleanliness</th>\n",
       "      <th>overall</th>\n",
       "      <th>value</th>\n",
       "      <th>location</th>\n",
       "      <th>sleep_quality</th>\n",
       "      <th>rooms</th>\n",
       "      <th>check_in_front_desk</th>\n",
       "      <th>business_service_(e_g_internet_access)</th>\n",
       "    </tr>\n",
       "  </thead>\n",
       "  <tbody>\n",
       "    <tr>\n",
       "      <th>0</th>\n",
       "      <td>147643103</td>\n",
       "      <td>5.0</td>\n",
       "      <td>5.0</td>\n",
       "      <td>5.0</td>\n",
       "      <td>5.0</td>\n",
       "      <td>5.0</td>\n",
       "      <td>5.0</td>\n",
       "      <td>5.0</td>\n",
       "      <td>NaN</td>\n",
       "      <td>NaN</td>\n",
       "    </tr>\n",
       "    <tr>\n",
       "      <th>1</th>\n",
       "      <td>147639004</td>\n",
       "      <td>5.0</td>\n",
       "      <td>5.0</td>\n",
       "      <td>5.0</td>\n",
       "      <td>5.0</td>\n",
       "      <td>5.0</td>\n",
       "      <td>5.0</td>\n",
       "      <td>5.0</td>\n",
       "      <td>NaN</td>\n",
       "      <td>NaN</td>\n",
       "    </tr>\n",
       "    <tr>\n",
       "      <th>2</th>\n",
       "      <td>147697954</td>\n",
       "      <td>4.0</td>\n",
       "      <td>5.0</td>\n",
       "      <td>4.0</td>\n",
       "      <td>4.0</td>\n",
       "      <td>5.0</td>\n",
       "      <td>4.0</td>\n",
       "      <td>4.0</td>\n",
       "      <td>NaN</td>\n",
       "      <td>NaN</td>\n",
       "    </tr>\n",
       "    <tr>\n",
       "      <th>3</th>\n",
       "      <td>147625723</td>\n",
       "      <td>5.0</td>\n",
       "      <td>5.0</td>\n",
       "      <td>4.0</td>\n",
       "      <td>5.0</td>\n",
       "      <td>5.0</td>\n",
       "      <td>5.0</td>\n",
       "      <td>5.0</td>\n",
       "      <td>NaN</td>\n",
       "      <td>NaN</td>\n",
       "    </tr>\n",
       "    <tr>\n",
       "      <th>4</th>\n",
       "      <td>147612823</td>\n",
       "      <td>4.0</td>\n",
       "      <td>5.0</td>\n",
       "      <td>4.0</td>\n",
       "      <td>3.0</td>\n",
       "      <td>5.0</td>\n",
       "      <td>5.0</td>\n",
       "      <td>5.0</td>\n",
       "      <td>NaN</td>\n",
       "      <td>NaN</td>\n",
       "    </tr>\n",
       "  </tbody>\n",
       "</table>\n",
       "</div>"
      ],
      "text/plain": [
       "          id  service  cleanliness  overall  value  location  sleep_quality  \\\n",
       "0  147643103      5.0          5.0      5.0    5.0       5.0            5.0   \n",
       "1  147639004      5.0          5.0      5.0    5.0       5.0            5.0   \n",
       "2  147697954      4.0          5.0      4.0    4.0       5.0            4.0   \n",
       "3  147625723      5.0          5.0      4.0    5.0       5.0            5.0   \n",
       "4  147612823      4.0          5.0      4.0    3.0       5.0            5.0   \n",
       "\n",
       "   rooms  check_in_front_desk  business_service_(e_g_internet_access)  \n",
       "0    5.0                  NaN                                     NaN  \n",
       "1    5.0                  NaN                                     NaN  \n",
       "2    4.0                  NaN                                     NaN  \n",
       "3    5.0                  NaN                                     NaN  \n",
       "4    5.0                  NaN                                     NaN  "
      ]
     },
     "execution_count": 8,
     "metadata": {},
     "output_type": "execute_result"
    }
   ],
   "source": [
    "df.head()"
   ]
  },
  {
   "cell_type": "code",
   "execution_count": 10,
   "id": "636212e7",
   "metadata": {},
   "outputs": [
    {
     "name": "stdout",
     "output_type": "stream",
     "text": [
      "<class 'pandas.core.frame.DataFrame'>\n",
      "RangeIndex: 10000 entries, 0 to 9999\n",
      "Data columns (total 10 columns):\n",
      " #   Column                                  Non-Null Count  Dtype  \n",
      "---  ------                                  --------------  -----  \n",
      " 0   id                                      10000 non-null  int64  \n",
      " 1   service                                 9231 non-null   float64\n",
      " 2   cleanliness                             9207 non-null   float64\n",
      " 3   overall                                 10000 non-null  float64\n",
      " 4   value                                   9177 non-null   float64\n",
      " 5   location                                8330 non-null   float64\n",
      " 6   sleep_quality                           7110 non-null   float64\n",
      " 7   rooms                                   8524 non-null   float64\n",
      " 8   check_in_front_desk                     638 non-null    float64\n",
      " 9   business_service_(e_g_internet_access)  494 non-null    float64\n",
      "dtypes: float64(9), int64(1)\n",
      "memory usage: 781.4 KB\n"
     ]
    }
   ],
   "source": [
    "df.info()"
   ]
  },
  {
   "cell_type": "code",
   "execution_count": 11,
   "id": "35a27b28",
   "metadata": {},
   "outputs": [
    {
     "data": {
      "text/plain": [
       "Index(['id', 'service', 'cleanliness', 'overall', 'value', 'location',\n",
       "       'sleep_quality', 'rooms', 'check_in_front_desk',\n",
       "       'business_service_(e_g_internet_access)'],\n",
       "      dtype='object')"
      ]
     },
     "execution_count": 11,
     "metadata": {},
     "output_type": "execute_result"
    }
   ],
   "source": [
    "df.columns\n",
    "#row = df.loc[df['id'] == 147643103]"
   ]
  },
  {
   "cell_type": "code",
   "execution_count": 12,
   "id": "cb80a180",
   "metadata": {},
   "outputs": [
    {
     "data": {
      "text/plain": [
       "(10000, 10)"
      ]
     },
     "execution_count": 12,
     "metadata": {},
     "output_type": "execute_result"
    }
   ],
   "source": [
    "df.shape"
   ]
  },
  {
   "cell_type": "code",
   "execution_count": 13,
   "id": "c9bafdc3",
   "metadata": {},
   "outputs": [],
   "source": [
    "ratings = df.drop([\"id\", \"overall\"], axis=1)\n",
    "overall_ratings = df[\"overall\"]"
   ]
  },
  {
   "cell_type": "code",
   "execution_count": 14,
   "id": "73cf126c",
   "metadata": {},
   "outputs": [],
   "source": [
    "overall_ratings = df[\"overall\"]"
   ]
  },
  {
   "cell_type": "code",
   "execution_count": 15,
   "id": "f48be0d9",
   "metadata": {},
   "outputs": [
    {
     "data": {
      "text/plain": [
       "Index(['service', 'cleanliness', 'value', 'location', 'sleep_quality', 'rooms',\n",
       "       'check_in_front_desk', 'business_service_(e_g_internet_access)'],\n",
       "      dtype='object')"
      ]
     },
     "execution_count": 15,
     "metadata": {},
     "output_type": "execute_result"
    }
   ],
   "source": [
    "ratings.columns"
   ]
  },
  {
   "cell_type": "markdown",
   "id": "b9465a67",
   "metadata": {},
   "source": [
    "## Data Preprocessing"
   ]
  },
  {
   "cell_type": "code",
   "execution_count": 16,
   "id": "0c1c0a35",
   "metadata": {},
   "outputs": [],
   "source": [
    "ratings.fillna(0, inplace=True)"
   ]
  },
  {
   "cell_type": "code",
   "execution_count": 17,
   "id": "3fbe049b",
   "metadata": {},
   "outputs": [],
   "source": [
    "ratings = ratings.astype(float)"
   ]
  },
  {
   "cell_type": "markdown",
   "id": "9cb0049f",
   "metadata": {},
   "source": [
    "## Correlation Matrix "
   ]
  },
  {
   "cell_type": "code",
   "execution_count": 18,
   "id": "a3b05b59",
   "metadata": {},
   "outputs": [
    {
     "data": {
      "image/png": "[encoded data removed]",
      "text/plain": [
       "<Figure size 1000x800 with 2 Axes>"
      ]
     },
     "metadata": {},
     "output_type": "display_data"
    }
   ],
   "source": [
    "correlation_matrix = ratings.corr()\n",
    "plt.figure(figsize=(10, 8))\n",
    "sns.heatmap(correlation_matrix, square=True, annot=True, cmap='RdYlGn')\n",
    "plt.show()"
   ]
  },
  {
   "cell_type": "markdown",
   "id": "65e3e932",
   "metadata": {},
   "source": [
    "## Normalization"
   ]
  },
  {
   "cell_type": "code",
   "execution_count": 20,
   "id": "b9792ab3",
   "metadata": {},
   "outputs": [],
   "source": [
    "from sklearn.preprocessing import StandardScaler\n",
    "scaler=StandardScaler()"
   ]
  },
  {
   "cell_type": "code",
   "execution_count": 21,
   "id": "2423bb06",
   "metadata": {},
   "outputs": [
    {
     "data": {
      "text/html": [
       "<style>#sk-container-id-1 {color: black;background-color: white;}#sk-container-id-1 pre{padding: 0;}#sk-container-id-1 div.sk-toggleable {background-color: white;}#sk-container-id-1 label.sk-toggleable__label {cursor: pointer;display: block;width: 100%;margin-bottom: 0;padding: 0.3em;box-sizing: border-box;text-align: center;}#sk-container-id-1 label.sk-toggleable__label-arrow:before {content: \"▸\";float: left;margin-right: 0.25em;color: #696969;}#sk-container-id-1 label.sk-toggleable__label-arrow:hover:before {color: black;}#sk-container-id-1 div.sk-estimator:hover label.sk-toggleable__label-arrow:before {color: black;}#sk-container-id-1 div.sk-toggleable__content {max-height: 0;max-width: 0;overflow: hidden;text-align: left;background-color: #f0f8ff;}#sk-container-id-1 div.sk-toggleable__content pre {margin: 0.2em;color: black;border-radius: 0.25em;background-color: #f0f8ff;}#sk-container-id-1 input.sk-toggleable__control:checked~div.sk-toggleable__content {max-height: 200px;max-width: 100%;overflow: auto;}#sk-container-id-1 input.sk-toggleable__control:checked~label.sk-toggleable__label-arrow:before {content: \"▾\";}#sk-container-id-1 div.sk-estimator input.sk-toggleable__control:checked~label.sk-toggleable__label {background-color: #d4ebff;}#sk-container-id-1 div.sk-label input.sk-toggleable__control:checked~label.sk-toggleable__label {background-color: #d4ebff;}#sk-container-id-1 input.sk-hidden--visually {border: 0;clip: rect(1px 1px 1px 1px);clip: rect(1px, 1px, 1px, 1px);height: 1px;margin: -1px;overflow: hidden;padding: 0;position: absolute;width: 1px;}#sk-container-id-1 div.sk-estimator {font-family: monospace;background-color: #f0f8ff;border: 1px dotted black;border-radius: 0.25em;box-sizing: border-box;margin-bottom: 0.5em;}#sk-container-id-1 div.sk-estimator:hover {background-color: #d4ebff;}#sk-container-id-1 div.sk-parallel-item::after {content: \"\";width: 100%;border-bottom: 1px solid gray;flex-grow: 1;}#sk-container-id-1 div.sk-label:hover label.sk-toggleable__label {background-color: #d4ebff;}#sk-container-id-1 div.sk-serial::before {content: \"\";position: absolute;border-left: 1px solid gray;box-sizing: border-box;top: 0;bottom: 0;left: 50%;z-index: 0;}#sk-container-id-1 div.sk-serial {display: flex;flex-direction: column;align-items: center;background-color: white;padding-right: 0.2em;padding-left: 0.2em;position: relative;}#sk-container-id-1 div.sk-item {position: relative;z-index: 1;}#sk-container-id-1 div.sk-parallel {display: flex;align-items: stretch;justify-content: center;background-color: white;position: relative;}#sk-container-id-1 div.sk-item::before, #sk-container-id-1 div.sk-parallel-item::before {content: \"\";position: absolute;border-left: 1px solid gray;box-sizing: border-box;top: 0;bottom: 0;left: 50%;z-index: -1;}#sk-container-id-1 div.sk-parallel-item {display: flex;flex-direction: column;z-index: 1;position: relative;background-color: white;}#sk-container-id-1 div.sk-parallel-item:first-child::after {align-self: flex-end;width: 50%;}#sk-container-id-1 div.sk-parallel-item:last-child::after {align-self: flex-start;width: 50%;}#sk-container-id-1 div.sk-parallel-item:only-child::after {width: 0;}#sk-container-id-1 div.sk-dashed-wrapped {border: 1px dashed gray;margin: 0 0.4em 0.5em 0.4em;box-sizing: border-box;padding-bottom: 0.4em;background-color: white;}#sk-container-id-1 div.sk-label label {font-family: monospace;font-weight: bold;display: inline-block;line-height: 1.2em;}#sk-container-id-1 div.sk-label-container {text-align: center;}#sk-container-id-1 div.sk-container {/* jupyter's `normalize.less` sets `[hidden] { display: none; }` but bootstrap.min.css set `[hidden] { display: none !important; }` so we also need the `!important` here to be able to override the default hidden behavior on the sphinx rendered scikit-learn.org. See: https://github.com/scikit-learn/scikit-learn/issues/21755 */display: inline-block !important;position: relative;}#sk-container-id-1 div.sk-text-repr-fallback {display: none;}</style><div id=\"sk-container-id-1\" class=\"sk-top-container\"><div class=\"sk-text-repr-fallback\"><pre>StandardScaler()</pre><b>In a Jupyter environment, please rerun this cell to show the HTML representation or trust the notebook. <br />On GitHub, the HTML representation is unable to render, please try loading this page with nbviewer.org.</b></div><div class=\"sk-container\" hidden><div class=\"sk-item\"><div class=\"sk-estimator sk-toggleable\"><input class=\"sk-toggleable__control sk-hidden--visually\" id=\"sk-estimator-id-1\" type=\"checkbox\" checked><label for=\"sk-estimator-id-1\" class=\"sk-toggleable__label sk-toggleable__label-arrow\">StandardScaler</label><div class=\"sk-toggleable__content\"><pre>StandardScaler()</pre></div></div></div></div></div>"
      ],
      "text/plain": [
       "StandardScaler()"
      ]
     },
     "execution_count": 21,
     "metadata": {},
     "output_type": "execute_result"
    }
   ],
   "source": [
    "scaler.fit(ratings)"
   ]
  },
  {
   "cell_type": "code",
   "execution_count": 22,
   "id": "1f86c8d9",
   "metadata": {},
   "outputs": [],
   "source": [
    "scaled_data=scaler.transform(ratings)"
   ]
  },
  {
   "cell_type": "code",
   "execution_count": 23,
   "id": "b788441b",
   "metadata": {},
   "outputs": [
    {
     "data": {
      "text/plain": [
       "array([[ 0.73454887,  0.70064215,  0.87228012, ...,  0.86709563,\n",
       "        -0.24404518, -0.21293036],\n",
       "       [ 0.73454887,  0.70064215,  0.87228012, ...,  0.86709563,\n",
       "        -0.24404518, -0.21293036],\n",
       "       [ 0.11457177,  0.70064215,  0.24179214, ...,  0.31554317,\n",
       "        -0.24404518, -0.21293036],\n",
       "       ...,\n",
       "       [ 0.11457177,  0.07657325, -0.38869584, ..., -1.8906667 ,\n",
       "        -0.24404518, -0.21293036],\n",
       "       [ 0.73454887,  0.70064215,  0.24179214, ..., -1.8906667 ,\n",
       "        -0.24404518, -0.21293036],\n",
       "       [ 0.73454887,  0.70064215,  0.87228012, ...,  0.86709563,\n",
       "        -0.24404518, -0.21293036]])"
      ]
     },
     "execution_count": 23,
     "metadata": {},
     "output_type": "execute_result"
    }
   ],
   "source": [
    "scaled_data"
   ]
  },
  {
   "cell_type": "code",
   "execution_count": 24,
   "id": "77d16c73",
   "metadata": {},
   "outputs": [],
   "source": [
    "from sklearn.model_selection import train_test_split\n",
    "x_train_model, x_test_model, y_train_model, y_test_model = train_test_split(scaled_data, overall_ratings, test_size=0.2, random_state=42)"
   ]
  },
  {
   "cell_type": "code",
   "execution_count": 25,
   "id": "9c3e5b4b",
   "metadata": {},
   "outputs": [
    {
     "data": {
      "text/plain": [
       "(8000, 8)"
      ]
     },
     "execution_count": 25,
     "metadata": {},
     "output_type": "execute_result"
    }
   ],
   "source": [
    "x_train_model.shape"
   ]
  },
  {
   "cell_type": "code",
   "execution_count": 26,
   "id": "3bb5c315",
   "metadata": {},
   "outputs": [],
   "source": [
    "from sklearn.decomposition import PCA \n",
    "from sklearn.linear_model import LinearRegression \n",
    "from sklearn.pipeline import Pipeline\n",
    "from sklearn.metrics import mean_absolute_error,mean_squared_error,r2_score  "
   ]
  },
  {
   "cell_type": "code",
   "execution_count": 27,
   "id": "807944fa",
   "metadata": {},
   "outputs": [],
   "source": [
    "pca = PCA(n_components=5) "
   ]
  },
  {
   "cell_type": "code",
   "execution_count": 28,
   "id": "cc58b904",
   "metadata": {},
   "outputs": [],
   "source": [
    "reg = LinearRegression() \n",
    "pipeline = Pipeline(steps=[('pca', pca),('reg', reg)]) "
   ]
  },
  {
   "cell_type": "code",
   "execution_count": 29,
   "id": "6fa62017",
   "metadata": {},
   "outputs": [
    {
     "data": {
      "text/html": [
       "<style>#sk-container-id-2 {color: black;background-color: white;}#sk-container-id-2 pre{padding: 0;}#sk-container-id-2 div.sk-toggleable {background-color: white;}#sk-container-id-2 label.sk-toggleable__label {cursor: pointer;display: block;width: 100%;margin-bottom: 0;padding: 0.3em;box-sizing: border-box;text-align: center;}#sk-container-id-2 label.sk-toggleable__label-arrow:before {content: \"▸\";float: left;margin-right: 0.25em;color: #696969;}#sk-container-id-2 label.sk-toggleable__label-arrow:hover:before {color: black;}#sk-container-id-2 div.sk-estimator:hover label.sk-toggleable__label-arrow:before {color: black;}#sk-container-id-2 div.sk-toggleable__content {max-height: 0;max-width: 0;overflow: hidden;text-align: left;background-color: #f0f8ff;}#sk-container-id-2 div.sk-toggleable__content pre {margin: 0.2em;color: black;border-radius: 0.25em;background-color: #f0f8ff;}#sk-container-id-2 input.sk-toggleable__control:checked~div.sk-toggleable__content {max-height: 200px;max-width: 100%;overflow: auto;}#sk-container-id-2 input.sk-toggleable__control:checked~label.sk-toggleable__label-arrow:before {content: \"▾\";}#sk-container-id-2 div.sk-estimator input.sk-toggleable__control:checked~label.sk-toggleable__label {background-color: #d4ebff;}#sk-container-id-2 div.sk-label input.sk-toggleable__control:checked~label.sk-toggleable__label {background-color: #d4ebff;}#sk-container-id-2 input.sk-hidden--visually {border: 0;clip: rect(1px 1px 1px 1px);clip: rect(1px, 1px, 1px, 1px);height: 1px;margin: -1px;overflow: hidden;padding: 0;position: absolute;width: 1px;}#sk-container-id-2 div.sk-estimator {font-family: monospace;background-color: #f0f8ff;border: 1px dotted black;border-radius: 0.25em;box-sizing: border-box;margin-bottom: 0.5em;}#sk-container-id-2 div.sk-estimator:hover {background-color: #d4ebff;}#sk-container-id-2 div.sk-parallel-item::after {content: \"\";width: 100%;border-bottom: 1px solid gray;flex-grow: 1;}#sk-container-id-2 div.sk-label:hover label.sk-toggleable__label {background-color: #d4ebff;}#sk-container-id-2 div.sk-serial::before {content: \"\";position: absolute;border-left: 1px solid gray;box-sizing: border-box;top: 0;bottom: 0;left: 50%;z-index: 0;}#sk-container-id-2 div.sk-serial {display: flex;flex-direction: column;align-items: center;background-color: white;padding-right: 0.2em;padding-left: 0.2em;position: relative;}#sk-container-id-2 div.sk-item {position: relative;z-index: 1;}#sk-container-id-2 div.sk-parallel {display: flex;align-items: stretch;justify-content: center;background-color: white;position: relative;}#sk-container-id-2 div.sk-item::before, #sk-container-id-2 div.sk-parallel-item::before {content: \"\";position: absolute;border-left: 1px solid gray;box-sizing: border-box;top: 0;bottom: 0;left: 50%;z-index: -1;}#sk-container-id-2 div.sk-parallel-item {display: flex;flex-direction: column;z-index: 1;position: relative;background-color: white;}#sk-container-id-2 div.sk-parallel-item:first-child::after {align-self: flex-end;width: 50%;}#sk-container-id-2 div.sk-parallel-item:last-child::after {align-self: flex-start;width: 50%;}#sk-container-id-2 div.sk-parallel-item:only-child::after {width: 0;}#sk-container-id-2 div.sk-dashed-wrapped {border: 1px dashed gray;margin: 0 0.4em 0.5em 0.4em;box-sizing: border-box;padding-bottom: 0.4em;background-color: white;}#sk-container-id-2 div.sk-label label {font-family: monospace;font-weight: bold;display: inline-block;line-height: 1.2em;}#sk-container-id-2 div.sk-label-container {text-align: center;}#sk-container-id-2 div.sk-container {/* jupyter's `normalize.less` sets `[hidden] { display: none; }` but bootstrap.min.css set `[hidden] { display: none !important; }` so we also need the `!important` here to be able to override the default hidden behavior on the sphinx rendered scikit-learn.org. See: https://github.com/scikit-learn/scikit-learn/issues/21755 */display: inline-block !important;position: relative;}#sk-container-id-2 div.sk-text-repr-fallback {display: none;}</style><div id=\"sk-container-id-2\" class=\"sk-top-container\"><div class=\"sk-text-repr-fallback\"><pre>Pipeline(steps=[(&#x27;pca&#x27;, PCA(n_components=5)), (&#x27;reg&#x27;, LinearRegression())])</pre><b>In a Jupyter environment, please rerun this cell to show the HTML representation or trust the notebook. <br />On GitHub, the HTML representation is unable to render, please try loading this page with nbviewer.org.</b></div><div class=\"sk-container\" hidden><div class=\"sk-item sk-dashed-wrapped\"><div class=\"sk-label-container\"><div class=\"sk-label sk-toggleable\"><input class=\"sk-toggleable__control sk-hidden--visually\" id=\"sk-estimator-id-2\" type=\"checkbox\" ><label for=\"sk-estimator-id-2\" class=\"sk-toggleable__label sk-toggleable__label-arrow\">Pipeline</label><div class=\"sk-toggleable__content\"><pre>Pipeline(steps=[(&#x27;pca&#x27;, PCA(n_components=5)), (&#x27;reg&#x27;, LinearRegression())])</pre></div></div></div><div class=\"sk-serial\"><div class=\"sk-item\"><div class=\"sk-estimator sk-toggleable\"><input class=\"sk-toggleable__control sk-hidden--visually\" id=\"sk-estimator-id-3\" type=\"checkbox\" ><label for=\"sk-estimator-id-3\" class=\"sk-toggleable__label sk-toggleable__label-arrow\">PCA</label><div class=\"sk-toggleable__content\"><pre>PCA(n_components=5)</pre></div></div></div><div class=\"sk-item\"><div class=\"sk-estimator sk-toggleable\"><input class=\"sk-toggleable__control sk-hidden--visually\" id=\"sk-estimator-id-4\" type=\"checkbox\" ><label for=\"sk-estimator-id-4\" class=\"sk-toggleable__label sk-toggleable__label-arrow\">LinearRegression</label><div class=\"sk-toggleable__content\"><pre>LinearRegression()</pre></div></div></div></div></div></div></div>"
      ],
      "text/plain": [
       "Pipeline(steps=[('pca', PCA(n_components=5)), ('reg', LinearRegression())])"
      ]
     },
     "execution_count": 29,
     "metadata": {},
     "output_type": "execute_result"
    }
   ],
   "source": [
    "pipeline.fit(x_train_model, y_train_model) "
   ]
  },
  {
   "cell_type": "code",
   "execution_count": 30,
   "id": "6760de73",
   "metadata": {},
   "outputs": [],
   "source": [
    "predictions_model = pipeline.predict(x_test_model)"
   ]
  },
  {
   "cell_type": "markdown",
   "id": "e4e409da",
   "metadata": {},
   "source": [
    "## Evaluation Measures of the Proposed Model"
   ]
  },
  {
   "cell_type": "code",
   "execution_count": 31,
   "id": "d497ad2a",
   "metadata": {},
   "outputs": [],
   "source": [
    "mae_model = mean_absolute_error(y_test_model,predictions_model) "
   ]
  },
  {
   "cell_type": "code",
   "execution_count": 32,
   "id": "ddbd5a08",
   "metadata": {},
   "outputs": [
    {
     "name": "stdout",
     "output_type": "stream",
     "text": [
      "Mean Absolute Error of the model is : 0.68\n"
     ]
    }
   ],
   "source": [
    "print(\"Mean Absolute Error of the model is :\", round(mae_model, 2))"
   ]
  },
  {
   "cell_type": "code",
   "execution_count": 35,
   "id": "f278bec5",
   "metadata": {},
   "outputs": [
    {
     "name": "stdout",
     "output_type": "stream",
     "text": [
      "Mean Squared Error of the model is : 0.85\n"
     ]
    }
   ],
   "source": [
    "mse_model = mean_squared_error(y_test_model,predictions_model) \n",
    "print(\"Mean Squared Error of the model is :\", round(mse_model, 2))"
   ]
  },
  {
   "cell_type": "code",
   "execution_count": 36,
   "id": "9d07e33b",
   "metadata": {},
   "outputs": [
    {
     "name": "stdout",
     "output_type": "stream",
     "text": [
      " Root Mean Squared Error of the model is : 0.92\n"
     ]
    }
   ],
   "source": [
    "rmse_model = np.sqrt(mse_model) \n",
    "print(\" Root Mean Squared Error of the model is :\", round(rmse_model, 2))"
   ]
  },
  {
   "cell_type": "code",
   "execution_count": 38,
   "id": "1fc0a429",
   "metadata": {},
   "outputs": [
    {
     "name": "stdout",
     "output_type": "stream",
     "text": [
      "R2 Score of the model is : 0.47\n"
     ]
    }
   ],
   "source": [
    "# Compute R-squared (R²) score\n",
    "r2_model = r2_score(y_test_model, predictions_model)\n",
    "print(\"R2 Score of the model is :\", round(r2_model, 2))"
   ]
  },
  {
   "cell_type": "markdown",
   "id": "fdf32fd3",
   "metadata": {},
   "source": [
    "## Linear Regression Model"
   ]
  },
  {
   "cell_type": "code",
   "execution_count": 39,
   "id": "cae29526",
   "metadata": {},
   "outputs": [],
   "source": [
    "from sklearn.model_selection import train_test_split\n",
    "x_train_lr, x_test_lr, y_train_lr, y_test_lr = train_test_split(ratings, overall_ratings, test_size=0.2, random_state=42)"
   ]
  },
  {
   "cell_type": "code",
   "execution_count": 40,
   "id": "234f57c6",
   "metadata": {},
   "outputs": [],
   "source": [
    "from sklearn.linear_model import LinearRegression \n",
    "from sklearn.metrics import mean_absolute_error,mean_squared_error,r2_score  "
   ]
  },
  {
   "cell_type": "code",
   "execution_count": 41,
   "id": "0e9e4af6",
   "metadata": {},
   "outputs": [],
   "source": [
    "reg = LinearRegression() "
   ]
  },
  {
   "cell_type": "code",
   "execution_count": 42,
   "id": "90661d58",
   "metadata": {},
   "outputs": [
    {
     "data": {
      "text/html": [
       "<style>#sk-container-id-3 {color: black;background-color: white;}#sk-container-id-3 pre{padding: 0;}#sk-container-id-3 div.sk-toggleable {background-color: white;}#sk-container-id-3 label.sk-toggleable__label {cursor: pointer;display: block;width: 100%;margin-bottom: 0;padding: 0.3em;box-sizing: border-box;text-align: center;}#sk-container-id-3 label.sk-toggleable__label-arrow:before {content: \"▸\";float: left;margin-right: 0.25em;color: #696969;}#sk-container-id-3 label.sk-toggleable__label-arrow:hover:before {color: black;}#sk-container-id-3 div.sk-estimator:hover label.sk-toggleable__label-arrow:before {color: black;}#sk-container-id-3 div.sk-toggleable__content {max-height: 0;max-width: 0;overflow: hidden;text-align: left;background-color: #f0f8ff;}#sk-container-id-3 div.sk-toggleable__content pre {margin: 0.2em;color: black;border-radius: 0.25em;background-color: #f0f8ff;}#sk-container-id-3 input.sk-toggleable__control:checked~div.sk-toggleable__content {max-height: 200px;max-width: 100%;overflow: auto;}#sk-container-id-3 input.sk-toggleable__control:checked~label.sk-toggleable__label-arrow:before {content: \"▾\";}#sk-container-id-3 div.sk-estimator input.sk-toggleable__control:checked~label.sk-toggleable__label {background-color: #d4ebff;}#sk-container-id-3 div.sk-label input.sk-toggleable__control:checked~label.sk-toggleable__label {background-color: #d4ebff;}#sk-container-id-3 input.sk-hidden--visually {border: 0;clip: rect(1px 1px 1px 1px);clip: rect(1px, 1px, 1px, 1px);height: 1px;margin: -1px;overflow: hidden;padding: 0;position: absolute;width: 1px;}#sk-container-id-3 div.sk-estimator {font-family: monospace;background-color: #f0f8ff;border: 1px dotted black;border-radius: 0.25em;box-sizing: border-box;margin-bottom: 0.5em;}#sk-container-id-3 div.sk-estimator:hover {background-color: #d4ebff;}#sk-container-id-3 div.sk-parallel-item::after {content: \"\";width: 100%;border-bottom: 1px solid gray;flex-grow: 1;}#sk-container-id-3 div.sk-label:hover label.sk-toggleable__label {background-color: #d4ebff;}#sk-container-id-3 div.sk-serial::before {content: \"\";position: absolute;border-left: 1px solid gray;box-sizing: border-box;top: 0;bottom: 0;left: 50%;z-index: 0;}#sk-container-id-3 div.sk-serial {display: flex;flex-direction: column;align-items: center;background-color: white;padding-right: 0.2em;padding-left: 0.2em;position: relative;}#sk-container-id-3 div.sk-item {position: relative;z-index: 1;}#sk-container-id-3 div.sk-parallel {display: flex;align-items: stretch;justify-content: center;background-color: white;position: relative;}#sk-container-id-3 div.sk-item::before, #sk-container-id-3 div.sk-parallel-item::before {content: \"\";position: absolute;border-left: 1px solid gray;box-sizing: border-box;top: 0;bottom: 0;left: 50%;z-index: -1;}#sk-container-id-3 div.sk-parallel-item {display: flex;flex-direction: column;z-index: 1;position: relative;background-color: white;}#sk-container-id-3 div.sk-parallel-item:first-child::after {align-self: flex-end;width: 50%;}#sk-container-id-3 div.sk-parallel-item:last-child::after {align-self: flex-start;width: 50%;}#sk-container-id-3 div.sk-parallel-item:only-child::after {width: 0;}#sk-container-id-3 div.sk-dashed-wrapped {border: 1px dashed gray;margin: 0 0.4em 0.5em 0.4em;box-sizing: border-box;padding-bottom: 0.4em;background-color: white;}#sk-container-id-3 div.sk-label label {font-family: monospace;font-weight: bold;display: inline-block;line-height: 1.2em;}#sk-container-id-3 div.sk-label-container {text-align: center;}#sk-container-id-3 div.sk-container {/* jupyter's `normalize.less` sets `[hidden] { display: none; }` but bootstrap.min.css set `[hidden] { display: none !important; }` so we also need the `!important` here to be able to override the default hidden behavior on the sphinx rendered scikit-learn.org. See: https://github.com/scikit-learn/scikit-learn/issues/21755 */display: inline-block !important;position: relative;}#sk-container-id-3 div.sk-text-repr-fallback {display: none;}</style><div id=\"sk-container-id-3\" class=\"sk-top-container\"><div class=\"sk-text-repr-fallback\"><pre>LinearRegression()</pre><b>In a Jupyter environment, please rerun this cell to show the HTML representation or trust the notebook. <br />On GitHub, the HTML representation is unable to render, please try loading this page with nbviewer.org.</b></div><div class=\"sk-container\" hidden><div class=\"sk-item\"><div class=\"sk-estimator sk-toggleable\"><input class=\"sk-toggleable__control sk-hidden--visually\" id=\"sk-estimator-id-5\" type=\"checkbox\" checked><label for=\"sk-estimator-id-5\" class=\"sk-toggleable__label sk-toggleable__label-arrow\">LinearRegression</label><div class=\"sk-toggleable__content\"><pre>LinearRegression()</pre></div></div></div></div></div>"
      ],
      "text/plain": [
       "LinearRegression()"
      ]
     },
     "execution_count": 42,
     "metadata": {},
     "output_type": "execute_result"
    }
   ],
   "source": [
    "reg.fit(x_train_lr,y_train_lr)"
   ]
  },
  {
   "cell_type": "code",
   "execution_count": 43,
   "id": "7ce6b355",
   "metadata": {},
   "outputs": [],
   "source": [
    "predictions_without_pca = reg.predict(x_test_lr)"
   ]
  },
  {
   "cell_type": "markdown",
   "id": "bb6bbb3f",
   "metadata": {},
   "source": [
    "## Evaluation Measures of the Linear Regression Model"
   ]
  },
  {
   "cell_type": "code",
   "execution_count": 44,
   "id": "9c35faa7",
   "metadata": {},
   "outputs": [
    {
     "name": "stdout",
     "output_type": "stream",
     "text": [
      "Mean Absolute Error of the model is : 0.67\n"
     ]
    }
   ],
   "source": [
    "mae_lr = mean_absolute_error(y_test_lr,predictions_without_pca) \n",
    "print(\"Mean Absolute Error of the model is :\", round(mae_lr, 2))"
   ]
  },
  {
   "cell_type": "code",
   "execution_count": 45,
   "id": "b1ba7e85",
   "metadata": {},
   "outputs": [
    {
     "name": "stdout",
     "output_type": "stream",
     "text": [
      "Mean Squared Error of the model is : 0.82\n"
     ]
    }
   ],
   "source": [
    "mse_lr = mean_squared_error(y_test_lr,predictions_without_pca) \n",
    "print(\"Mean Squared Error of the model is :\", round(mse_lr, 2))"
   ]
  },
  {
   "cell_type": "code",
   "execution_count": 46,
   "id": "2da8fe0f",
   "metadata": {},
   "outputs": [
    {
     "name": "stdout",
     "output_type": "stream",
     "text": [
      " Root Mean Squared Error of the model is : 0.91\n"
     ]
    }
   ],
   "source": [
    "rmse_lr = np.sqrt(mse_lr) \n",
    "print(\" Root Mean Squared Error of the model is :\", round(rmse_lr, 2))"
   ]
  },
  {
   "cell_type": "code",
   "execution_count": 47,
   "id": "983d08f4",
   "metadata": {},
   "outputs": [
    {
     "name": "stdout",
     "output_type": "stream",
     "text": [
      "R2 Score of the model is : 0.49\n"
     ]
    }
   ],
   "source": [
    "r2_lr = r2_score(y_test_lr, predictions_without_pca)\n",
    "print(\"R2 Score of the model is :\", round(r2_lr, 2))"
   ]
  },
  {
   "cell_type": "code",
   "execution_count": null,
   "id": "22e52682",
   "metadata": {},
   "outputs": [],
   "source": []
  }
 ],
 "metadata": {
  "kernelspec": {
   "display_name": "Python 3 (ipykernel)",
   "language": "python",
   "name": "python3"
  },
  "language_info": {
   "codemirror_mode": {
    "name": "ipython",
    "version": 3
   },
   "file_extension": ".py",
   "mimetype": "text/x-python",
   "name": "python",
   "nbconvert_exporter": "python",
   "pygments_lexer": "ipython3",
   "version": "3.11.3"
  }
 },
 "nbformat": 4,
 "nbformat_minor": 5
}
