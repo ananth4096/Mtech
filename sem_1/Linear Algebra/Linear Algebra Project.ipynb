{
 "cells": [
  {
   "cell_type": "markdown",
   "id": "07eec878",
   "metadata": {},
   "source": [
    "## Importing  In built Functions & Libraries "
   ]
  },
  {
   "cell_type": "code",
   "execution_count": 146,
   "id": "e29b7d8c",
   "metadata": {},
   "outputs": [],
   "source": [
    "import pandas as pd\n",
    "import numpy as np\n",
    "import matplotlib.pyplot as plt\n",
    "from sklearn.cluster import KMeans\n",
    "from scipy.linalg import svd"
   ]
  },
  {
   "cell_type": "markdown",
   "id": "afb58b22",
   "metadata": {},
   "source": [
    "## Reading the data"
   ]
  },
  {
   "cell_type": "code",
   "execution_count": 147,
   "id": "dec1b6d2",
   "metadata": {},
   "outputs": [],
   "source": [
    "data=pd.read_csv(r\"C:\\Users\\anant\\Desktop\\reviews.csv\")"
   ]
  },
  {
   "cell_type": "code",
   "execution_count": 148,
   "id": "8889d86a",
   "metadata": {},
   "outputs": [
    {
     "data": {
      "text/html": [
       "<div>\n",
       "<style scoped>\n",
       "    .dataframe tbody tr th:only-of-type {\n",
       "        vertical-align: middle;\n",
       "    }\n",
       "\n",
       "    .dataframe tbody tr th {\n",
       "        vertical-align: top;\n",
       "    }\n",
       "\n",
       "    .dataframe thead th {\n",
       "        text-align: right;\n",
       "    }\n",
       "</style>\n",
       "<table border=\"1\" class=\"dataframe\">\n",
       "  <thead>\n",
       "    <tr style=\"text-align: right;\">\n",
       "      <th></th>\n",
       "      <th>ratings</th>\n",
       "      <th>title</th>\n",
       "      <th>text</th>\n",
       "      <th>author</th>\n",
       "      <th>date_stayed</th>\n",
       "      <th>offering_id</th>\n",
       "      <th>num_helpful_votes</th>\n",
       "      <th>date</th>\n",
       "      <th>id</th>\n",
       "      <th>via_mobile</th>\n",
       "    </tr>\n",
       "  </thead>\n",
       "  <tbody>\n",
       "    <tr>\n",
       "      <th>0</th>\n",
       "      <td>{'service': 5.0, 'cleanliness': 5.0, 'overall'...</td>\n",
       "      <td>“Truly is \"Jewel of the Upper Wets Side\"”</td>\n",
       "      <td>Stayed in a king suite for 11 nights and yes i...</td>\n",
       "      <td>{'username': 'Papa_Panda', 'num_cities': 22, '...</td>\n",
       "      <td>December 2012</td>\n",
       "      <td>93338</td>\n",
       "      <td>0</td>\n",
       "      <td>December 17, 2012</td>\n",
       "      <td>147643103</td>\n",
       "      <td>False</td>\n",
       "    </tr>\n",
       "    <tr>\n",
       "      <th>1</th>\n",
       "      <td>{'service': 5.0, 'cleanliness': 5.0, 'overall'...</td>\n",
       "      <td>“My home away from home!”</td>\n",
       "      <td>On every visit to NYC, the Hotel Beacon is the...</td>\n",
       "      <td>{'username': 'Maureen V', 'num_reviews': 2, 'n...</td>\n",
       "      <td>December 2012</td>\n",
       "      <td>93338</td>\n",
       "      <td>0</td>\n",
       "      <td>December 17, 2012</td>\n",
       "      <td>147639004</td>\n",
       "      <td>False</td>\n",
       "    </tr>\n",
       "    <tr>\n",
       "      <th>2</th>\n",
       "      <td>{'service': 4.0, 'cleanliness': 5.0, 'overall'...</td>\n",
       "      <td>“Great Stay”</td>\n",
       "      <td>This is a great property in Midtown. We two di...</td>\n",
       "      <td>{'username': 'vuguru', 'num_cities': 12, 'num_...</td>\n",
       "      <td>December 2012</td>\n",
       "      <td>1762573</td>\n",
       "      <td>0</td>\n",
       "      <td>December 18, 2012</td>\n",
       "      <td>147697954</td>\n",
       "      <td>False</td>\n",
       "    </tr>\n",
       "    <tr>\n",
       "      <th>3</th>\n",
       "      <td>{'service': 5.0, 'cleanliness': 5.0, 'overall'...</td>\n",
       "      <td>“Modern Convenience”</td>\n",
       "      <td>The Andaz is a nice hotel in a central locatio...</td>\n",
       "      <td>{'username': 'Hotel-Designer', 'num_cities': 5...</td>\n",
       "      <td>August 2012</td>\n",
       "      <td>1762573</td>\n",
       "      <td>0</td>\n",
       "      <td>December 17, 2012</td>\n",
       "      <td>147625723</td>\n",
       "      <td>False</td>\n",
       "    </tr>\n",
       "    <tr>\n",
       "      <th>4</th>\n",
       "      <td>{'service': 4.0, 'cleanliness': 5.0, 'overall'...</td>\n",
       "      <td>“Its the best of the Andaz Brand in the US....”</td>\n",
       "      <td>I have stayed at each of the US Andaz properti...</td>\n",
       "      <td>{'username': 'JamesE339', 'num_cities': 34, 'n...</td>\n",
       "      <td>December 2012</td>\n",
       "      <td>1762573</td>\n",
       "      <td>0</td>\n",
       "      <td>December 17, 2012</td>\n",
       "      <td>147612823</td>\n",
       "      <td>False</td>\n",
       "    </tr>\n",
       "  </tbody>\n",
       "</table>\n",
       "</div>"
      ],
      "text/plain": [
       "                                             ratings  \\\n",
       "0  {'service': 5.0, 'cleanliness': 5.0, 'overall'...   \n",
       "1  {'service': 5.0, 'cleanliness': 5.0, 'overall'...   \n",
       "2  {'service': 4.0, 'cleanliness': 5.0, 'overall'...   \n",
       "3  {'service': 5.0, 'cleanliness': 5.0, 'overall'...   \n",
       "4  {'service': 4.0, 'cleanliness': 5.0, 'overall'...   \n",
       "\n",
       "                                             title  \\\n",
       "0        “Truly is \"Jewel of the Upper Wets Side\"”   \n",
       "1                        “My home away from home!”   \n",
       "2                                     “Great Stay”   \n",
       "3                             “Modern Convenience”   \n",
       "4  “Its the best of the Andaz Brand in the US....”   \n",
       "\n",
       "                                                text  \\\n",
       "0  Stayed in a king suite for 11 nights and yes i...   \n",
       "1  On every visit to NYC, the Hotel Beacon is the...   \n",
       "2  This is a great property in Midtown. We two di...   \n",
       "3  The Andaz is a nice hotel in a central locatio...   \n",
       "4  I have stayed at each of the US Andaz properti...   \n",
       "\n",
       "                                              author    date_stayed  \\\n",
       "0  {'username': 'Papa_Panda', 'num_cities': 22, '...  December 2012   \n",
       "1  {'username': 'Maureen V', 'num_reviews': 2, 'n...  December 2012   \n",
       "2  {'username': 'vuguru', 'num_cities': 12, 'num_...  December 2012   \n",
       "3  {'username': 'Hotel-Designer', 'num_cities': 5...    August 2012   \n",
       "4  {'username': 'JamesE339', 'num_cities': 34, 'n...  December 2012   \n",
       "\n",
       "   offering_id  num_helpful_votes               date         id  via_mobile  \n",
       "0        93338                  0  December 17, 2012  147643103       False  \n",
       "1        93338                  0  December 17, 2012  147639004       False  \n",
       "2      1762573                  0  December 18, 2012  147697954       False  \n",
       "3      1762573                  0  December 17, 2012  147625723       False  \n",
       "4      1762573                  0  December 17, 2012  147612823       False  "
      ]
     },
     "execution_count": 148,
     "metadata": {},
     "output_type": "execute_result"
    }
   ],
   "source": [
    "data.head()"
   ]
  },
  {
   "cell_type": "markdown",
   "id": "08990d45",
   "metadata": {},
   "source": [
    "## Data Pre-Processing"
   ]
  },
  {
   "cell_type": "code",
   "execution_count": 149,
   "id": "20b5156f",
   "metadata": {
    "scrolled": true
   },
   "outputs": [
    {
     "name": "stdout",
     "output_type": "stream",
     "text": [
      "<class 'pandas.core.frame.DataFrame'>\n",
      "RangeIndex: 10000 entries, 0 to 9999\n",
      "Data columns (total 10 columns):\n",
      " #   Column             Non-Null Count  Dtype \n",
      "---  ------             --------------  ----- \n",
      " 0   ratings            10000 non-null  object\n",
      " 1   title              10000 non-null  object\n",
      " 2   text               10000 non-null  object\n",
      " 3   author             10000 non-null  object\n",
      " 4   date_stayed        9757 non-null   object\n",
      " 5   offering_id        10000 non-null  int64 \n",
      " 6   num_helpful_votes  10000 non-null  int64 \n",
      " 7   date               10000 non-null  object\n",
      " 8   id                 10000 non-null  int64 \n",
      " 9   via_mobile         10000 non-null  bool  \n",
      "dtypes: bool(1), int64(3), object(6)\n",
      "memory usage: 713.0+ KB\n"
     ]
    }
   ],
   "source": [
    "data.info()"
   ]
  },
  {
   "cell_type": "code",
   "execution_count": 150,
   "id": "5a5e817d",
   "metadata": {},
   "outputs": [],
   "source": [
    "df=data[[\"id\",\"ratings\"]]"
   ]
  },
  {
   "cell_type": "code",
   "execution_count": 151,
   "id": "20ae044c",
   "metadata": {},
   "outputs": [
    {
     "data": {
      "text/html": [
       "<div>\n",
       "<style scoped>\n",
       "    .dataframe tbody tr th:only-of-type {\n",
       "        vertical-align: middle;\n",
       "    }\n",
       "\n",
       "    .dataframe tbody tr th {\n",
       "        vertical-align: top;\n",
       "    }\n",
       "\n",
       "    .dataframe thead th {\n",
       "        text-align: right;\n",
       "    }\n",
       "</style>\n",
       "<table border=\"1\" class=\"dataframe\">\n",
       "  <thead>\n",
       "    <tr style=\"text-align: right;\">\n",
       "      <th></th>\n",
       "      <th>id</th>\n",
       "      <th>ratings</th>\n",
       "    </tr>\n",
       "  </thead>\n",
       "  <tbody>\n",
       "    <tr>\n",
       "      <th>0</th>\n",
       "      <td>147643103</td>\n",
       "      <td>{'service': 5.0, 'cleanliness': 5.0, 'overall'...</td>\n",
       "    </tr>\n",
       "    <tr>\n",
       "      <th>1</th>\n",
       "      <td>147639004</td>\n",
       "      <td>{'service': 5.0, 'cleanliness': 5.0, 'overall'...</td>\n",
       "    </tr>\n",
       "    <tr>\n",
       "      <th>2</th>\n",
       "      <td>147697954</td>\n",
       "      <td>{'service': 4.0, 'cleanliness': 5.0, 'overall'...</td>\n",
       "    </tr>\n",
       "    <tr>\n",
       "      <th>3</th>\n",
       "      <td>147625723</td>\n",
       "      <td>{'service': 5.0, 'cleanliness': 5.0, 'overall'...</td>\n",
       "    </tr>\n",
       "    <tr>\n",
       "      <th>4</th>\n",
       "      <td>147612823</td>\n",
       "      <td>{'service': 4.0, 'cleanliness': 5.0, 'overall'...</td>\n",
       "    </tr>\n",
       "  </tbody>\n",
       "</table>\n",
       "</div>"
      ],
      "text/plain": [
       "          id                                            ratings\n",
       "0  147643103  {'service': 5.0, 'cleanliness': 5.0, 'overall'...\n",
       "1  147639004  {'service': 5.0, 'cleanliness': 5.0, 'overall'...\n",
       "2  147697954  {'service': 4.0, 'cleanliness': 5.0, 'overall'...\n",
       "3  147625723  {'service': 5.0, 'cleanliness': 5.0, 'overall'...\n",
       "4  147612823  {'service': 4.0, 'cleanliness': 5.0, 'overall'..."
      ]
     },
     "execution_count": 151,
     "metadata": {},
     "output_type": "execute_result"
    }
   ],
   "source": [
    "df.head()"
   ]
  },
  {
   "cell_type": "markdown",
   "id": "7206f725",
   "metadata": {},
   "source": [
    "## Splitting the column Ratings "
   ]
  },
  {
   "cell_type": "code",
   "execution_count": 152,
   "id": "7937759d",
   "metadata": {},
   "outputs": [
    {
     "name": "stderr",
     "output_type": "stream",
     "text": [
      "C:\\Users\\anant\\AppData\\Local\\Temp\\ipykernel_6024\\2506144524.py:3: SettingWithCopyWarning: \n",
      "A value is trying to be set on a copy of a slice from a DataFrame.\n",
      "Try using .loc[row_indexer,col_indexer] = value instead\n",
      "\n",
      "See the caveats in the documentation: https://pandas.pydata.org/pandas-docs/stable/user_guide/indexing.html#returning-a-view-versus-a-copy\n",
      "  df['ratings'] = df['ratings'].apply(ast.literal_eval)\n"
     ]
    }
   ],
   "source": [
    "#Abstract Syntax Trees\n",
    "import ast\n",
    "df['ratings'] = df['ratings'].apply(ast.literal_eval)\n",
    "df = pd.concat([df.drop(['ratings'], axis=1), pd.json_normalize(df['ratings'])], axis=1)"
   ]
  },
  {
   "cell_type": "code",
   "execution_count": 153,
   "id": "996f54c2",
   "metadata": {},
   "outputs": [
    {
     "data": {
      "text/html": [
       "<div>\n",
       "<style scoped>\n",
       "    .dataframe tbody tr th:only-of-type {\n",
       "        vertical-align: middle;\n",
       "    }\n",
       "\n",
       "    .dataframe tbody tr th {\n",
       "        vertical-align: top;\n",
       "    }\n",
       "\n",
       "    .dataframe thead th {\n",
       "        text-align: right;\n",
       "    }\n",
       "</style>\n",
       "<table border=\"1\" class=\"dataframe\">\n",
       "  <thead>\n",
       "    <tr style=\"text-align: right;\">\n",
       "      <th></th>\n",
       "      <th>id</th>\n",
       "      <th>service</th>\n",
       "      <th>cleanliness</th>\n",
       "      <th>overall</th>\n",
       "      <th>value</th>\n",
       "      <th>location</th>\n",
       "      <th>sleep_quality</th>\n",
       "      <th>rooms</th>\n",
       "      <th>check_in_front_desk</th>\n",
       "      <th>business_service_(e_g_internet_access)</th>\n",
       "    </tr>\n",
       "  </thead>\n",
       "  <tbody>\n",
       "    <tr>\n",
       "      <th>0</th>\n",
       "      <td>147643103</td>\n",
       "      <td>5.0</td>\n",
       "      <td>5.0</td>\n",
       "      <td>5.0</td>\n",
       "      <td>5.0</td>\n",
       "      <td>5.0</td>\n",
       "      <td>5.0</td>\n",
       "      <td>5.0</td>\n",
       "      <td>NaN</td>\n",
       "      <td>NaN</td>\n",
       "    </tr>\n",
       "    <tr>\n",
       "      <th>1</th>\n",
       "      <td>147639004</td>\n",
       "      <td>5.0</td>\n",
       "      <td>5.0</td>\n",
       "      <td>5.0</td>\n",
       "      <td>5.0</td>\n",
       "      <td>5.0</td>\n",
       "      <td>5.0</td>\n",
       "      <td>5.0</td>\n",
       "      <td>NaN</td>\n",
       "      <td>NaN</td>\n",
       "    </tr>\n",
       "    <tr>\n",
       "      <th>2</th>\n",
       "      <td>147697954</td>\n",
       "      <td>4.0</td>\n",
       "      <td>5.0</td>\n",
       "      <td>4.0</td>\n",
       "      <td>4.0</td>\n",
       "      <td>5.0</td>\n",
       "      <td>4.0</td>\n",
       "      <td>4.0</td>\n",
       "      <td>NaN</td>\n",
       "      <td>NaN</td>\n",
       "    </tr>\n",
       "    <tr>\n",
       "      <th>3</th>\n",
       "      <td>147625723</td>\n",
       "      <td>5.0</td>\n",
       "      <td>5.0</td>\n",
       "      <td>4.0</td>\n",
       "      <td>5.0</td>\n",
       "      <td>5.0</td>\n",
       "      <td>5.0</td>\n",
       "      <td>5.0</td>\n",
       "      <td>NaN</td>\n",
       "      <td>NaN</td>\n",
       "    </tr>\n",
       "    <tr>\n",
       "      <th>4</th>\n",
       "      <td>147612823</td>\n",
       "      <td>4.0</td>\n",
       "      <td>5.0</td>\n",
       "      <td>4.0</td>\n",
       "      <td>3.0</td>\n",
       "      <td>5.0</td>\n",
       "      <td>5.0</td>\n",
       "      <td>5.0</td>\n",
       "      <td>NaN</td>\n",
       "      <td>NaN</td>\n",
       "    </tr>\n",
       "  </tbody>\n",
       "</table>\n",
       "</div>"
      ],
      "text/plain": [
       "          id  service  cleanliness  overall  value  location  sleep_quality  \\\n",
       "0  147643103      5.0          5.0      5.0    5.0       5.0            5.0   \n",
       "1  147639004      5.0          5.0      5.0    5.0       5.0            5.0   \n",
       "2  147697954      4.0          5.0      4.0    4.0       5.0            4.0   \n",
       "3  147625723      5.0          5.0      4.0    5.0       5.0            5.0   \n",
       "4  147612823      4.0          5.0      4.0    3.0       5.0            5.0   \n",
       "\n",
       "   rooms  check_in_front_desk  business_service_(e_g_internet_access)  \n",
       "0    5.0                  NaN                                     NaN  \n",
       "1    5.0                  NaN                                     NaN  \n",
       "2    4.0                  NaN                                     NaN  \n",
       "3    5.0                  NaN                                     NaN  \n",
       "4    5.0                  NaN                                     NaN  "
      ]
     },
     "execution_count": 153,
     "metadata": {},
     "output_type": "execute_result"
    }
   ],
   "source": [
    "df.head()"
   ]
  },
  {
   "cell_type": "code",
   "execution_count": 154,
   "id": "217345b7",
   "metadata": {},
   "outputs": [
    {
     "name": "stdout",
     "output_type": "stream",
     "text": [
      "<class 'pandas.core.frame.DataFrame'>\n",
      "RangeIndex: 10000 entries, 0 to 9999\n",
      "Data columns (total 10 columns):\n",
      " #   Column                                  Non-Null Count  Dtype  \n",
      "---  ------                                  --------------  -----  \n",
      " 0   id                                      10000 non-null  int64  \n",
      " 1   service                                 9231 non-null   float64\n",
      " 2   cleanliness                             9207 non-null   float64\n",
      " 3   overall                                 10000 non-null  float64\n",
      " 4   value                                   9177 non-null   float64\n",
      " 5   location                                8330 non-null   float64\n",
      " 6   sleep_quality                           7110 non-null   float64\n",
      " 7   rooms                                   8524 non-null   float64\n",
      " 8   check_in_front_desk                     638 non-null    float64\n",
      " 9   business_service_(e_g_internet_access)  494 non-null    float64\n",
      "dtypes: float64(9), int64(1)\n",
      "memory usage: 781.4 KB\n"
     ]
    }
   ],
   "source": [
    "df.info()"
   ]
  },
  {
   "cell_type": "code",
   "execution_count": 155,
   "id": "dd909d1a",
   "metadata": {},
   "outputs": [],
   "source": [
    "df=df[[\"id\",\"service\",\"cleanliness\",\"location\",\"sleep_quality\",\"rooms\",\"overall\"]]"
   ]
  },
  {
   "cell_type": "code",
   "execution_count": 156,
   "id": "3fe602f0",
   "metadata": {},
   "outputs": [
    {
     "data": {
      "text/html": [
       "<div>\n",
       "<style scoped>\n",
       "    .dataframe tbody tr th:only-of-type {\n",
       "        vertical-align: middle;\n",
       "    }\n",
       "\n",
       "    .dataframe tbody tr th {\n",
       "        vertical-align: top;\n",
       "    }\n",
       "\n",
       "    .dataframe thead th {\n",
       "        text-align: right;\n",
       "    }\n",
       "</style>\n",
       "<table border=\"1\" class=\"dataframe\">\n",
       "  <thead>\n",
       "    <tr style=\"text-align: right;\">\n",
       "      <th></th>\n",
       "      <th>id</th>\n",
       "      <th>service</th>\n",
       "      <th>cleanliness</th>\n",
       "      <th>location</th>\n",
       "      <th>sleep_quality</th>\n",
       "      <th>rooms</th>\n",
       "      <th>overall</th>\n",
       "    </tr>\n",
       "  </thead>\n",
       "  <tbody>\n",
       "    <tr>\n",
       "      <th>0</th>\n",
       "      <td>147643103</td>\n",
       "      <td>5.0</td>\n",
       "      <td>5.0</td>\n",
       "      <td>5.0</td>\n",
       "      <td>5.0</td>\n",
       "      <td>5.0</td>\n",
       "      <td>5.0</td>\n",
       "    </tr>\n",
       "    <tr>\n",
       "      <th>1</th>\n",
       "      <td>147639004</td>\n",
       "      <td>5.0</td>\n",
       "      <td>5.0</td>\n",
       "      <td>5.0</td>\n",
       "      <td>5.0</td>\n",
       "      <td>5.0</td>\n",
       "      <td>5.0</td>\n",
       "    </tr>\n",
       "    <tr>\n",
       "      <th>2</th>\n",
       "      <td>147697954</td>\n",
       "      <td>4.0</td>\n",
       "      <td>5.0</td>\n",
       "      <td>5.0</td>\n",
       "      <td>4.0</td>\n",
       "      <td>4.0</td>\n",
       "      <td>4.0</td>\n",
       "    </tr>\n",
       "    <tr>\n",
       "      <th>3</th>\n",
       "      <td>147625723</td>\n",
       "      <td>5.0</td>\n",
       "      <td>5.0</td>\n",
       "      <td>5.0</td>\n",
       "      <td>5.0</td>\n",
       "      <td>5.0</td>\n",
       "      <td>4.0</td>\n",
       "    </tr>\n",
       "    <tr>\n",
       "      <th>4</th>\n",
       "      <td>147612823</td>\n",
       "      <td>4.0</td>\n",
       "      <td>5.0</td>\n",
       "      <td>5.0</td>\n",
       "      <td>5.0</td>\n",
       "      <td>5.0</td>\n",
       "      <td>4.0</td>\n",
       "    </tr>\n",
       "  </tbody>\n",
       "</table>\n",
       "</div>"
      ],
      "text/plain": [
       "          id  service  cleanliness  location  sleep_quality  rooms  overall\n",
       "0  147643103      5.0          5.0       5.0            5.0    5.0      5.0\n",
       "1  147639004      5.0          5.0       5.0            5.0    5.0      5.0\n",
       "2  147697954      4.0          5.0       5.0            4.0    4.0      4.0\n",
       "3  147625723      5.0          5.0       5.0            5.0    5.0      4.0\n",
       "4  147612823      4.0          5.0       5.0            5.0    5.0      4.0"
      ]
     },
     "execution_count": 156,
     "metadata": {},
     "output_type": "execute_result"
    }
   ],
   "source": [
    "df.head()"
   ]
  },
  {
   "cell_type": "code",
   "execution_count": 157,
   "id": "d4e04a94",
   "metadata": {},
   "outputs": [
    {
     "data": {
      "text/plain": [
       "Index(['id', 'service', 'cleanliness', 'location', 'sleep_quality', 'rooms',\n",
       "       'overall'],\n",
       "      dtype='object')"
      ]
     },
     "execution_count": 157,
     "metadata": {},
     "output_type": "execute_result"
    }
   ],
   "source": [
    "df.columns"
   ]
  },
  {
   "cell_type": "code",
   "execution_count": 158,
   "id": "ba528fdb",
   "metadata": {},
   "outputs": [
    {
     "data": {
      "text/plain": [
       "(10000, 7)"
      ]
     },
     "execution_count": 158,
     "metadata": {},
     "output_type": "execute_result"
    }
   ],
   "source": [
    "df.shape"
   ]
  },
  {
   "cell_type": "code",
   "execution_count": 159,
   "id": "8e1a52ca",
   "metadata": {},
   "outputs": [],
   "source": [
    "ratings = df.drop([\"id\", \"overall\"], axis=1)\n",
    "overall_ratings = df[\"overall\"]"
   ]
  },
  {
   "cell_type": "code",
   "execution_count": 160,
   "id": "1dd998f7",
   "metadata": {},
   "outputs": [
    {
     "data": {
      "text/plain": [
       "Index(['service', 'cleanliness', 'location', 'sleep_quality', 'rooms'], dtype='object')"
      ]
     },
     "execution_count": 160,
     "metadata": {},
     "output_type": "execute_result"
    }
   ],
   "source": [
    "ratings.columns"
   ]
  },
  {
   "cell_type": "markdown",
   "id": "d12dd478",
   "metadata": {},
   "source": [
    "### Check for missing values (NaN) and fill them with 0"
   ]
  },
  {
   "cell_type": "code",
   "execution_count": 161,
   "id": "bfce2516",
   "metadata": {},
   "outputs": [],
   "source": [
    "ratings.fillna(0, inplace=True)"
   ]
  },
  {
   "cell_type": "markdown",
   "id": "f31eff41",
   "metadata": {},
   "source": [
    "### Convert the DataFrame to Float"
   ]
  },
  {
   "cell_type": "code",
   "execution_count": 162,
   "id": "29d2ff5c",
   "metadata": {},
   "outputs": [],
   "source": [
    " ratings = ratings.astype(float)"
   ]
  },
  {
   "cell_type": "code",
   "execution_count": 165,
   "id": "d4ed1940",
   "metadata": {},
   "outputs": [
    {
     "name": "stderr",
     "output_type": "stream",
     "text": [
      "C:\\Users\\anant\\AppData\\Local\\anaconda3\\Lib\\site-packages\\sklearn\\cluster\\_kmeans.py:870: FutureWarning: The default value of `n_init` will change from 10 to 'auto' in 1.4. Set the value of `n_init` explicitly to suppress the warning\n",
      "  warnings.warn(\n",
      "C:\\Users\\anant\\AppData\\Local\\anaconda3\\Lib\\site-packages\\sklearn\\cluster\\_kmeans.py:870: FutureWarning: The default value of `n_init` will change from 10 to 'auto' in 1.4. Set the value of `n_init` explicitly to suppress the warning\n",
      "  warnings.warn(\n",
      "C:\\Users\\anant\\AppData\\Local\\anaconda3\\Lib\\site-packages\\sklearn\\cluster\\_kmeans.py:870: FutureWarning: The default value of `n_init` will change from 10 to 'auto' in 1.4. Set the value of `n_init` explicitly to suppress the warning\n",
      "  warnings.warn(\n",
      "C:\\Users\\anant\\AppData\\Local\\anaconda3\\Lib\\site-packages\\sklearn\\cluster\\_kmeans.py:870: FutureWarning: The default value of `n_init` will change from 10 to 'auto' in 1.4. Set the value of `n_init` explicitly to suppress the warning\n",
      "  warnings.warn(\n",
      "C:\\Users\\anant\\AppData\\Local\\anaconda3\\Lib\\site-packages\\sklearn\\cluster\\_kmeans.py:870: FutureWarning: The default value of `n_init` will change from 10 to 'auto' in 1.4. Set the value of `n_init` explicitly to suppress the warning\n",
      "  warnings.warn(\n",
      "C:\\Users\\anant\\AppData\\Local\\anaconda3\\Lib\\site-packages\\sklearn\\cluster\\_kmeans.py:870: FutureWarning: The default value of `n_init` will change from 10 to 'auto' in 1.4. Set the value of `n_init` explicitly to suppress the warning\n",
      "  warnings.warn(\n",
      "C:\\Users\\anant\\AppData\\Local\\anaconda3\\Lib\\site-packages\\sklearn\\cluster\\_kmeans.py:870: FutureWarning: The default value of `n_init` will change from 10 to 'auto' in 1.4. Set the value of `n_init` explicitly to suppress the warning\n",
      "  warnings.warn(\n",
      "C:\\Users\\anant\\AppData\\Local\\anaconda3\\Lib\\site-packages\\sklearn\\cluster\\_kmeans.py:870: FutureWarning: The default value of `n_init` will change from 10 to 'auto' in 1.4. Set the value of `n_init` explicitly to suppress the warning\n",
      "  warnings.warn(\n",
      "C:\\Users\\anant\\AppData\\Local\\anaconda3\\Lib\\site-packages\\sklearn\\cluster\\_kmeans.py:870: FutureWarning: The default value of `n_init` will change from 10 to 'auto' in 1.4. Set the value of `n_init` explicitly to suppress the warning\n",
      "  warnings.warn(\n",
      "C:\\Users\\anant\\AppData\\Local\\anaconda3\\Lib\\site-packages\\sklearn\\cluster\\_kmeans.py:870: FutureWarning: The default value of `n_init` will change from 10 to 'auto' in 1.4. Set the value of `n_init` explicitly to suppress the warning\n",
      "  warnings.warn(\n",
      "C:\\Users\\anant\\AppData\\Local\\anaconda3\\Lib\\site-packages\\sklearn\\cluster\\_kmeans.py:870: FutureWarning: The default value of `n_init` will change from 10 to 'auto' in 1.4. Set the value of `n_init` explicitly to suppress the warning\n",
      "  warnings.warn(\n"
     ]
    }
   ],
   "source": [
    "cluster_results = {}\n",
    "k_values = range(2, 13)\n",
    "k_distance_values = []  \n",
    "for k in k_values:\n",
    "    kmeans = KMeans(n_clusters=k) \n",
    "    cluster_labels = kmeans.fit_predict(ratings)      \n",
    "    k_distance_values.append(kmeans.inertia_)    \n",
    "    cluster_results[k] = cluster_labels   "
   ]
  },
  {
   "cell_type": "code",
   "execution_count": 130,
   "id": "9164ec67",
   "metadata": {},
   "outputs": [
    {
     "name": "stdout",
     "output_type": "stream",
     "text": [
      "Optimal number of clusters (k) using the elbow method: 12\n"
     ]
    }
   ],
   "source": [
    "optimal_k = None\n",
    "min_inertia_diff = float('inf')\n",
    "for i in range(1, len(k_distance_values)):\n",
    "    inertia_diff = k_distance_values[i - 1] - k_distance_values[i]\n",
    "    if inertia_diff < min_inertia_diff:\n",
    "        min_inertia_diff = inertia_diff\n",
    "        optimal_k = k_values[i]\n",
    "print(f\"Optimal number of clusters (k) using the elbow method: {optimal_k}\")"
   ]
  },
  {
   "cell_type": "code",
   "execution_count": 166,
   "id": "9c955b4c",
   "metadata": {},
   "outputs": [
    {
     "data": {
      "image/png": "[encoded data removed]",
      "text/plain": [
       "<Figure size 1600x400 with 1 Axes>"
      ]
     },
     "metadata": {},
     "output_type": "display_data"
    }
   ],
   "source": [
    "plt.figure(figsize=(16, 4))\n",
    "plt.plot(k_values, k_distance_values, marker='o')\n",
    "plt.title('Sum of Distance between Clusters vs. Number of Clusters (K)')\n",
    "plt.xlabel('Number of Clusters (K)')\n",
    "plt.ylabel('Distance ')\n",
    "plt.grid(True)\n",
    "#plot optimal k value on the graph \n",
    "plt.axvline(x=optimal_k, color='r', linestyle='--', label=f'Optimal K ({optimal_k})')\n",
    "plt.legend()\n",
    "plt.show()"
   ]
  },
  {
   "cell_type": "markdown",
   "id": "ce143514",
   "metadata": {},
   "source": [
    "# Dimensionality Reduction "
   ]
  },
  {
   "cell_type": "code",
   "execution_count": 141,
   "id": "c482cf74",
   "metadata": {},
   "outputs": [
    {
     "name": "stdout",
     "output_type": "stream",
     "text": [
      "Shape of U Matrix : (695, 695)\n",
      "Shape of S Matrix : (5,)\n",
      "Shape of VT Matrix : (5, 5)\n",
      "Reduced data for cluster 0 (optimal_k=12):\n",
      "(695, 5)\n",
      "\n",
      "Shape of U Matrix : (736, 736)\n",
      "Shape of S Matrix : (5,)\n",
      "Shape of VT Matrix : (5, 5)\n",
      "Reduced data for cluster 1 (optimal_k=12):\n",
      "(736, 5)\n",
      "\n",
      "Shape of U Matrix : (3468, 3468)\n",
      "Shape of S Matrix : (5,)\n",
      "Shape of VT Matrix : (5, 5)\n",
      "Reduced data for cluster 2 (optimal_k=12):\n",
      "(3468, 5)\n",
      "\n",
      "Shape of U Matrix : (1013, 1013)\n",
      "Shape of S Matrix : (5,)\n",
      "Shape of VT Matrix : (5, 5)\n",
      "Reduced data for cluster 3 (optimal_k=12):\n",
      "(1013, 5)\n",
      "\n",
      "Shape of U Matrix : (715, 715)\n",
      "Shape of S Matrix : (5,)\n",
      "Shape of VT Matrix : (5, 5)\n",
      "Reduced data for cluster 4 (optimal_k=12):\n",
      "(715, 5)\n",
      "\n",
      "Shape of U Matrix : (630, 630)\n",
      "Shape of S Matrix : (5,)\n",
      "Shape of VT Matrix : (5, 5)\n",
      "Reduced data for cluster 5 (optimal_k=12):\n",
      "(630, 5)\n",
      "\n",
      "Shape of U Matrix : (420, 420)\n",
      "Shape of S Matrix : (5,)\n",
      "Shape of VT Matrix : (5, 5)\n",
      "Reduced data for cluster 6 (optimal_k=12):\n",
      "(420, 5)\n",
      "\n",
      "Shape of U Matrix : (454, 454)\n",
      "Shape of S Matrix : (5,)\n",
      "Shape of VT Matrix : (5, 5)\n",
      "Reduced data for cluster 7 (optimal_k=12):\n",
      "(454, 5)\n",
      "\n",
      "Shape of U Matrix : (469, 469)\n",
      "Shape of S Matrix : (5,)\n",
      "Shape of VT Matrix : (5, 5)\n",
      "Reduced data for cluster 8 (optimal_k=12):\n",
      "(469, 5)\n",
      "\n",
      "Shape of U Matrix : (216, 216)\n",
      "Shape of S Matrix : (5,)\n",
      "Shape of VT Matrix : (5, 5)\n",
      "Reduced data for cluster 9 (optimal_k=12):\n",
      "(216, 5)\n",
      "\n",
      "Shape of U Matrix : (1056, 1056)\n",
      "Shape of S Matrix : (5,)\n",
      "Shape of VT Matrix : (5, 5)\n",
      "Reduced data for cluster 10 (optimal_k=12):\n",
      "(1056, 5)\n",
      "\n",
      "Shape of U Matrix : (128, 128)\n",
      "Shape of S Matrix : (5,)\n",
      "Shape of VT Matrix : (5, 5)\n",
      "Reduced data for cluster 11 (optimal_k=12):\n",
      "(128, 5)\n",
      "\n"
     ]
    }
   ],
   "source": [
    "for cluster_label in range(optimal_k):\n",
    "    cluster_data = ratings[cluster_labels == cluster_label]\n",
    "    U, S, V = svd(cluster_data)\n",
    "    print(\"Shape of U Matrix :\", U.shape)\n",
    "    print(\"Shape of S Matrix :\", S.shape)\n",
    "    print(\"Shape of VT Matrix :\", V.shape)\n",
    "    reduced_data = np.dot(U[:, :rank], np.dot(np.diag(S[:rank]), V[:rank, :]))\n",
    "    print(f\"Reduced data for cluster {cluster_label} (optimal_k={optimal_k}):\")\n",
    "    print(reduced_data.shape)\n",
    "    print()"
   ]
  },
  {
   "cell_type": "code",
   "execution_count": null,
   "id": "7ef8d226",
   "metadata": {},
   "outputs": [],
   "source": []
  },
  {
   "cell_type": "code",
   "execution_count": null,
   "id": "29fa5dcc",
   "metadata": {},
   "outputs": [],
   "source": []
  },
  {
   "cell_type": "code",
   "execution_count": null,
   "id": "ba565d68",
   "metadata": {},
   "outputs": [],
   "source": []
  },
  {
   "cell_type": "code",
   "execution_count": null,
   "id": "48ee7475",
   "metadata": {},
   "outputs": [],
   "source": []
  },
  {
   "cell_type": "code",
   "execution_count": null,
   "id": "803f384a",
   "metadata": {},
   "outputs": [],
   "source": []
  },
  {
   "cell_type": "code",
   "execution_count": null,
   "id": "8307a706",
   "metadata": {},
   "outputs": [],
   "source": []
  },
  {
   "cell_type": "code",
   "execution_count": null,
   "id": "13e7ff81",
   "metadata": {},
   "outputs": [],
   "source": []
  },
  {
   "cell_type": "code",
   "execution_count": null,
   "id": "8b5124c5",
   "metadata": {},
   "outputs": [],
   "source": []
  },
  {
   "cell_type": "code",
   "execution_count": null,
   "id": "d10442a2",
   "metadata": {},
   "outputs": [],
   "source": []
  },
  {
   "cell_type": "code",
   "execution_count": null,
   "id": "044ae443",
   "metadata": {},
   "outputs": [],
   "source": []
  },
  {
   "cell_type": "code",
   "execution_count": null,
   "id": "f358bba1",
   "metadata": {},
   "outputs": [],
   "source": []
  },
  {
   "cell_type": "code",
   "execution_count": null,
   "id": "155995cd",
   "metadata": {},
   "outputs": [],
   "source": []
  },
  {
   "cell_type": "code",
   "execution_count": null,
   "id": "32cae31e",
   "metadata": {},
   "outputs": [],
   "source": []
  },
  {
   "cell_type": "code",
   "execution_count": null,
   "id": "a82cc30b",
   "metadata": {},
   "outputs": [],
   "source": []
  },
  {
   "cell_type": "code",
   "execution_count": null,
   "id": "cde238aa",
   "metadata": {},
   "outputs": [],
   "source": []
  },
  {
   "cell_type": "code",
   "execution_count": null,
   "id": "e357dd70",
   "metadata": {},
   "outputs": [],
   "source": []
  }
 ],
 "metadata": {
  "kernelspec": {
   "display_name": "Python 3 (ipykernel)",
   "language": "python",
   "name": "python3"
  },
  "language_info": {
   "codemirror_mode": {
    "name": "ipython",
    "version": 3
   },
   "file_extension": ".py",
   "mimetype": "text/x-python",
   "name": "python",
   "nbconvert_exporter": "python",
   "pygments_lexer": "ipython3",
   "version": "3.11.3"
  }
 },
 "nbformat": 4,
 "nbformat_minor": 5
}
