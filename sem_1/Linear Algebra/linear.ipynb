{
 "cells": [
  {
   "cell_type": "raw",
   "id": "c254dfd7",
   "metadata": {},
   "source": [
    "import numpy as np\n",
    "import pandas as pd\n",
    "import matplotlib.pyplot as plt\n",
    "from sklearn.linear_model import LinearRegression\n",
    "X = np.array([0,1,2,3,4,5,6,7,8,9])\n",
    "y = np.array([1,3,2,5,7,8,8,9,10,12])\n",
    "X.reshape(-1,1)\n",
    "linear.model = LinearRegression()\n",
    "Linear.fit(X,y)\n",
    "Y_predict = linear.predict(X,y)\n",
    "pltscatter(X,y,color='orange',label='data')\n",
    "pltplot(X,y_predict,color='blue',label='observations')\n",
    "plt.xlabel=('feature vector')\n",
    "plt.ylabel=('response vector')\n",
    "pltlegend()\n",
    "pltshow()"
   ]
  },
  {
   "cell_type": "raw",
   "id": "e6211d7a",
   "metadata": {},
   "source": [
    "X = np.array([0,1,2,3,4,5,6,7,8,9])\n",
    "y = np.array([1,3,2,5,7,8,8,9,10,12])"
   ]
  },
  {
   "cell_type": "raw",
   "id": "05e58ccf",
   "metadata": {},
   "source": [
    "import numpy as np\n",
    "import pandas as pd \n",
    "from sklearn.linear_model import LinearRegression\n",
    "import matplotlib.pyplot as plt\n",
    "data = read.txt('data.txt')\n",
    "data\n"
   ]
  },
  {
   "cell_type": "raw",
   "id": "b33badad",
   "metadata": {},
   "source": []
  },
  {
   "cell_type": "raw",
   "id": "c167fda9",
   "metadata": {},
   "source": [
    "X  = (['data.txt'])\n",
    "data"
   ]
  },
  {
   "cell_type": "raw",
   "id": "9b4d266e",
   "metadata": {},
   "source": [
    "X = dataset('data.')"
   ]
  },
  {
   "cell_type": "raw",
   "id": "ee5f4350",
   "metadata": {},
   "source": []
  }
 ],
 "metadata": {
  "kernelspec": {
   "display_name": "Python 3 (ipykernel)",
   "language": "python",
   "name": "python3"
  },
  "language_info": {
   "codemirror_mode": {
    "name": "ipython",
    "version": 3
   },
   "file_extension": ".py",
   "mimetype": "text/x-python",
   "name": "python",
   "nbconvert_exporter": "python",
   "pygments_lexer": "ipython3",
   "version": "3.11.3"
  }
 },
 "nbformat": 4,
 "nbformat_minor": 5
}
